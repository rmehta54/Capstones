{
 "cells": [
  {
   "cell_type": "markdown",
   "metadata": {},
   "source": [
    "# 1.  Introduction"
   ]
  },
  {
   "cell_type": "markdown",
   "metadata": {},
   "source": [
    "Employee attrition is a problem every business faces. While the primary reasons for attrition can differ, there may be common themes that are consistent across different job functions. Using a dataset from IBM, I will be exploring how attrition differs across departments and if a certain factors (e.g., work-life balance) significantly influences attrition. I'll test to see if the requisite data is normal and conduct an independent sample T-test to validate significance in the findings. If the distribution is not normal, I'll use a non-parametric test like the Kruskal Wallace test.\n",
    "\n",
    "This research can benefit senior leadership within IBM, including HR. It may also be beneficial to other organizations as they benchmark their own employee attrition."
   ]
  },
  {
   "cell_type": "markdown",
   "metadata": {},
   "source": [
    "# 2. Hypothesis/ Research"
   ]
  },
  {
   "cell_type": "markdown",
   "metadata": {},
   "source": [
    "I'll first explore which department is experiencing the highest attrition rate. Then I'll look to understand the impact of work/ life balance and distance to work from an employee's home.\n",
    "\n",
    "\n",
    "Ho: There is no significant difference between the average attrition for employees with favorable work/life balance vs. those who have poor work/life balance\n",
    "\n",
    "Ha: There is significant difference between the average attrition for employees with favorable work/life balance vs. those who have poor work/life balance"
   ]
  },
  {
   "cell_type": "markdown",
   "metadata": {},
   "source": [
    "# 3. Data"
   ]
  },
  {
   "cell_type": "markdown",
   "metadata": {},
   "source": [
    "The dataset comes from Kaggle with 1,470 observations and 35 variables. There are no missing values. In the interest of exploring a subset of variables, I am going to reduce the variables to several survey response questions. The survey questions are ranked 1 - 4, with 4 being positive. \n",
    "\n",
    "https://www.kaggle.com/pavansubhasht/ibm-hr-analytics-attrition-dataset"
   ]
  },
  {
   "cell_type": "code",
   "execution_count": 1,
   "metadata": {},
   "outputs": [],
   "source": [
    "import pandas as pd\n",
    "import numpy as np\n",
    "import math\n",
    "import pandas as pd\n",
    "import numpy as np\n",
    "from scipy import stats\n",
    "import matplotlib.pyplot as plt\n",
    "import seaborn as sns"
   ]
  },
  {
   "cell_type": "code",
   "execution_count": 2,
   "metadata": {},
   "outputs": [],
   "source": [
    "path = 'C:\\\\Users\\Raj.Mehta\\OneDrive - Wolters Kluwer\\Downloads\\WA_Fn-UseC_-HR-Employee-Attrition.csv'\n",
    "df = pd.read_csv(path)"
   ]
  },
  {
   "cell_type": "code",
   "execution_count": 11,
   "metadata": {},
   "outputs": [
    {
     "name": "stdout",
     "output_type": "stream",
     "text": [
      "<class 'pandas.core.frame.DataFrame'>\n",
      "RangeIndex: 1470 entries, 0 to 1469\n",
      "Data columns (total 36 columns):\n",
      "Age                         1470 non-null int64\n",
      "Attrition                   1470 non-null object\n",
      "BusinessTravel              1470 non-null object\n",
      "DailyRate                   1470 non-null int64\n",
      "Department                  1470 non-null object\n",
      "DistanceFromHome            1470 non-null int64\n",
      "Education                   1470 non-null int64\n",
      "EducationField              1470 non-null object\n",
      "EmployeeCount               1470 non-null int64\n",
      "EmployeeNumber              1470 non-null int64\n",
      "EnvironmentSatisfaction     1470 non-null int64\n",
      "Gender                      1470 non-null object\n",
      "HourlyRate                  1470 non-null int64\n",
      "JobInvolvement              1470 non-null int64\n",
      "JobLevel                    1470 non-null int64\n",
      "JobRole                     1470 non-null object\n",
      "JobSatisfaction             1470 non-null int64\n",
      "MaritalStatus               1470 non-null object\n",
      "MonthlyIncome               1470 non-null int64\n",
      "MonthlyRate                 1470 non-null int64\n",
      "NumCompaniesWorked          1470 non-null int64\n",
      "Over18                      1470 non-null object\n",
      "OverTime                    1470 non-null object\n",
      "PercentSalaryHike           1470 non-null int64\n",
      "PerformanceRating           1470 non-null int64\n",
      "RelationshipSatisfaction    1470 non-null int64\n",
      "StandardHours               1470 non-null int64\n",
      "StockOptionLevel            1470 non-null int64\n",
      "TotalWorkingYears           1470 non-null int64\n",
      "TrainingTimesLastYear       1470 non-null int64\n",
      "WorkLifeBalance             1470 non-null int64\n",
      "YearsAtCompany              1470 non-null int64\n",
      "YearsInCurrentRole          1470 non-null int64\n",
      "YearsSinceLastPromotion     1470 non-null int64\n",
      "YearsWithCurrManager        1470 non-null int64\n",
      "Attrition_var               1470 non-null int64\n",
      "dtypes: int64(27), object(9)\n",
      "memory usage: 413.6+ KB\n"
     ]
    },
    {
     "data": {
      "text/html": [
       "<div>\n",
       "<style scoped>\n",
       "    .dataframe tbody tr th:only-of-type {\n",
       "        vertical-align: middle;\n",
       "    }\n",
       "\n",
       "    .dataframe tbody tr th {\n",
       "        vertical-align: top;\n",
       "    }\n",
       "\n",
       "    .dataframe thead th {\n",
       "        text-align: right;\n",
       "    }\n",
       "</style>\n",
       "<table border=\"1\" class=\"dataframe\">\n",
       "  <thead>\n",
       "    <tr style=\"text-align: right;\">\n",
       "      <th></th>\n",
       "      <th>Age</th>\n",
       "      <th>Attrition</th>\n",
       "      <th>BusinessTravel</th>\n",
       "      <th>DailyRate</th>\n",
       "      <th>Department</th>\n",
       "      <th>DistanceFromHome</th>\n",
       "      <th>Education</th>\n",
       "      <th>EducationField</th>\n",
       "      <th>EmployeeCount</th>\n",
       "      <th>EmployeeNumber</th>\n",
       "      <th>...</th>\n",
       "      <th>StandardHours</th>\n",
       "      <th>StockOptionLevel</th>\n",
       "      <th>TotalWorkingYears</th>\n",
       "      <th>TrainingTimesLastYear</th>\n",
       "      <th>WorkLifeBalance</th>\n",
       "      <th>YearsAtCompany</th>\n",
       "      <th>YearsInCurrentRole</th>\n",
       "      <th>YearsSinceLastPromotion</th>\n",
       "      <th>YearsWithCurrManager</th>\n",
       "      <th>Attrition_var</th>\n",
       "    </tr>\n",
       "  </thead>\n",
       "  <tbody>\n",
       "    <tr>\n",
       "      <td>0</td>\n",
       "      <td>41</td>\n",
       "      <td>Yes</td>\n",
       "      <td>Travel_Rarely</td>\n",
       "      <td>1102</td>\n",
       "      <td>Sales</td>\n",
       "      <td>1</td>\n",
       "      <td>2</td>\n",
       "      <td>Life Sciences</td>\n",
       "      <td>1</td>\n",
       "      <td>1</td>\n",
       "      <td>...</td>\n",
       "      <td>80</td>\n",
       "      <td>0</td>\n",
       "      <td>8</td>\n",
       "      <td>0</td>\n",
       "      <td>1</td>\n",
       "      <td>6</td>\n",
       "      <td>4</td>\n",
       "      <td>0</td>\n",
       "      <td>5</td>\n",
       "      <td>1</td>\n",
       "    </tr>\n",
       "    <tr>\n",
       "      <td>1</td>\n",
       "      <td>49</td>\n",
       "      <td>No</td>\n",
       "      <td>Travel_Frequently</td>\n",
       "      <td>279</td>\n",
       "      <td>Research &amp; Development</td>\n",
       "      <td>8</td>\n",
       "      <td>1</td>\n",
       "      <td>Life Sciences</td>\n",
       "      <td>1</td>\n",
       "      <td>2</td>\n",
       "      <td>...</td>\n",
       "      <td>80</td>\n",
       "      <td>1</td>\n",
       "      <td>10</td>\n",
       "      <td>3</td>\n",
       "      <td>3</td>\n",
       "      <td>10</td>\n",
       "      <td>7</td>\n",
       "      <td>1</td>\n",
       "      <td>7</td>\n",
       "      <td>0</td>\n",
       "    </tr>\n",
       "    <tr>\n",
       "      <td>2</td>\n",
       "      <td>37</td>\n",
       "      <td>Yes</td>\n",
       "      <td>Travel_Rarely</td>\n",
       "      <td>1373</td>\n",
       "      <td>Research &amp; Development</td>\n",
       "      <td>2</td>\n",
       "      <td>2</td>\n",
       "      <td>Other</td>\n",
       "      <td>1</td>\n",
       "      <td>4</td>\n",
       "      <td>...</td>\n",
       "      <td>80</td>\n",
       "      <td>0</td>\n",
       "      <td>7</td>\n",
       "      <td>3</td>\n",
       "      <td>3</td>\n",
       "      <td>0</td>\n",
       "      <td>0</td>\n",
       "      <td>0</td>\n",
       "      <td>0</td>\n",
       "      <td>1</td>\n",
       "    </tr>\n",
       "    <tr>\n",
       "      <td>3</td>\n",
       "      <td>33</td>\n",
       "      <td>No</td>\n",
       "      <td>Travel_Frequently</td>\n",
       "      <td>1392</td>\n",
       "      <td>Research &amp; Development</td>\n",
       "      <td>3</td>\n",
       "      <td>4</td>\n",
       "      <td>Life Sciences</td>\n",
       "      <td>1</td>\n",
       "      <td>5</td>\n",
       "      <td>...</td>\n",
       "      <td>80</td>\n",
       "      <td>0</td>\n",
       "      <td>8</td>\n",
       "      <td>3</td>\n",
       "      <td>3</td>\n",
       "      <td>8</td>\n",
       "      <td>7</td>\n",
       "      <td>3</td>\n",
       "      <td>0</td>\n",
       "      <td>0</td>\n",
       "    </tr>\n",
       "    <tr>\n",
       "      <td>4</td>\n",
       "      <td>27</td>\n",
       "      <td>No</td>\n",
       "      <td>Travel_Rarely</td>\n",
       "      <td>591</td>\n",
       "      <td>Research &amp; Development</td>\n",
       "      <td>2</td>\n",
       "      <td>1</td>\n",
       "      <td>Medical</td>\n",
       "      <td>1</td>\n",
       "      <td>7</td>\n",
       "      <td>...</td>\n",
       "      <td>80</td>\n",
       "      <td>1</td>\n",
       "      <td>6</td>\n",
       "      <td>3</td>\n",
       "      <td>3</td>\n",
       "      <td>2</td>\n",
       "      <td>2</td>\n",
       "      <td>2</td>\n",
       "      <td>2</td>\n",
       "      <td>0</td>\n",
       "    </tr>\n",
       "  </tbody>\n",
       "</table>\n",
       "<p>5 rows × 36 columns</p>\n",
       "</div>"
      ],
      "text/plain": [
       "   Age Attrition     BusinessTravel  DailyRate              Department  \\\n",
       "0   41       Yes      Travel_Rarely       1102                   Sales   \n",
       "1   49        No  Travel_Frequently        279  Research & Development   \n",
       "2   37       Yes      Travel_Rarely       1373  Research & Development   \n",
       "3   33        No  Travel_Frequently       1392  Research & Development   \n",
       "4   27        No      Travel_Rarely        591  Research & Development   \n",
       "\n",
       "   DistanceFromHome  Education EducationField  EmployeeCount  EmployeeNumber  \\\n",
       "0                 1          2  Life Sciences              1               1   \n",
       "1                 8          1  Life Sciences              1               2   \n",
       "2                 2          2          Other              1               4   \n",
       "3                 3          4  Life Sciences              1               5   \n",
       "4                 2          1        Medical              1               7   \n",
       "\n",
       "   ...  StandardHours StockOptionLevel  TotalWorkingYears  \\\n",
       "0  ...             80                0                  8   \n",
       "1  ...             80                1                 10   \n",
       "2  ...             80                0                  7   \n",
       "3  ...             80                0                  8   \n",
       "4  ...             80                1                  6   \n",
       "\n",
       "   TrainingTimesLastYear  WorkLifeBalance YearsAtCompany  YearsInCurrentRole  \\\n",
       "0                      0                1              6                   4   \n",
       "1                      3                3             10                   7   \n",
       "2                      3                3              0                   0   \n",
       "3                      3                3              8                   7   \n",
       "4                      3                3              2                   2   \n",
       "\n",
       "  YearsSinceLastPromotion  YearsWithCurrManager  Attrition_var  \n",
       "0                       0                     5              1  \n",
       "1                       1                     7              0  \n",
       "2                       0                     0              1  \n",
       "3                       3                     0              0  \n",
       "4                       2                     2              0  \n",
       "\n",
       "[5 rows x 36 columns]"
      ]
     },
     "execution_count": 11,
     "metadata": {},
     "output_type": "execute_result"
    }
   ],
   "source": [
    "df.info()\n",
    "df.head()"
   ]
  },
  {
   "cell_type": "markdown",
   "metadata": {},
   "source": [
    "# 4. Methodology"
   ]
  },
  {
   "cell_type": "markdown",
   "metadata": {},
   "source": [
    "For this analysis I will subset the data to only variables I'll be analyzing. I'll then create two data groups that capture employees who left IBM and customers who did not. Based on the count of attrition, it may be the best approach  to combine all 3 departments which will allow for a more interepretable and more stable result with a larger sample size and only two groups (customers who left vs. customers who stayed).\n",
    "\n",
    "If the distributions appear to be close to normally distributed based on their histogram, skewness and kurtosis, I will conduct an independent samples t-test between the groups at the two-tail, 95% confidence interval. If not, I'll conduct Kruskal Wallace test. "
   ]
  },
  {
   "cell_type": "markdown",
   "metadata": {},
   "source": [
    "# 5. Results"
   ]
  },
  {
   "cell_type": "markdown",
   "metadata": {},
   "source": [
    "# Which department has the highest attrition?"
   ]
  },
  {
   "cell_type": "code",
   "execution_count": 130,
   "metadata": {},
   "outputs": [
    {
     "data": {
      "image/png": "[encoded data removed]",
      "text/plain": [
       "<Figure size 360x360 with 1 Axes>"
      ]
     },
     "metadata": {
      "needs_background": "light"
     },
     "output_type": "display_data"
    },
    {
     "data": {
      "text/plain": [
       "Department              Attrition_var\n",
       "Human Resources         0                 51\n",
       "                        1                 12\n",
       "Research & Development  0                828\n",
       "                        1                133\n",
       "Sales                   0                354\n",
       "                        1                 92\n",
       "dtype: int64"
      ]
     },
     "execution_count": 130,
     "metadata": {},
     "output_type": "execute_result"
    }
   ],
   "source": [
    "# create new column that substitutes yes and no for 1 and 0 to facilitiate analysis\n",
    "df['Attrition_var'] = df.Attrition.replace(('Yes', 'No'), (1, 0))\n",
    "\n",
    "# reduce df to columns for analysis\n",
    "col = ['Attrition_var', 'Department', 'DistanceFromHome', 'Education', 'JobSatisfaction', 'WorkLifeBalance','JobInvolvement']\n",
    "df_subset = df.filter(items = col)\n",
    "# attrition rate by department graph and total counts\n",
    "df_mean = pd.DataFrame(df.groupby(['Department'])['Attrition_var'].mean()).reset_index()\n",
    "g = sns.catplot(data =df_mean, x = 'Department', y = 'Attrition_var', kind = 'bar')\n",
    "plt.setp(g.ax.get_xticklabels(), rotation=30);\n",
    "plt.title('Attrition by Department')\n",
    "plt.show()\n",
    "df_subset.groupby(['Department','Attrition_var']).size()"
   ]
  },
  {
   "cell_type": "markdown",
   "metadata": {},
   "source": [
    "Attrition rate is highest for sales followed by HR and then Research & Development. "
   ]
  },
  {
   "cell_type": "markdown",
   "metadata": {},
   "source": [
    "# How do responses to survey questions differ for employees who left IBM vs. employees who did not?"
   ]
  },
  {
   "cell_type": "code",
   "execution_count": 140,
   "metadata": {
    "scrolled": true
   },
   "outputs": [
    {
     "data": {
      "image/png": "[encoded data removed]",
      "text/plain": [
       "<Figure size 576x432 with 1 Axes>"
      ]
     },
     "metadata": {
      "needs_background": "light"
     },
     "output_type": "display_data"
    }
   ],
   "source": [
    "# Graph to see differences across certain response variables\n",
    "survey_col = ['Education', 'JobSatisfaction', 'WorkLifeBalance','JobInvolvement']\n",
    "#df_pairplot = pd.DataFrame(df_subset.groupby('Attrition_var')[survey_col].mean()).reset_index()\n",
    "df_subset.groupby('Attrition_var')[survey_col].mean().plot(kind = 'bar', figsize = (8,6))\n",
    "plt.title(\"Means for Survey Questions Across All Departments\")\n",
    "plt.show()"
   ]
  },
  {
   "cell_type": "markdown",
   "metadata": {},
   "source": [
    "Employees on average had lower scores across job satisfaction, work/ life balance, and job involvement. While this makes intuitive sense, I would like to confirm that the differences observed between work/ life balance are meaningful.  "
   ]
  },
  {
   "cell_type": "code",
   "execution_count": 158,
   "metadata": {},
   "outputs": [
    {
     "name": "stdout",
     "output_type": "stream",
     "text": [
      "DescribeResult(nobs=1233, minmax=(1, 4), mean=2.781021897810219, variance=0.4649966821499667, skewness=-0.5396081234974706, kurtosis=0.5307560451640096)\n",
      "DescribeResult(nobs=237, minmax=(1, 4), mean=2.6582278481012658, variance=0.6665951512550955, skewness=-0.46999525175732554, kurtosis=-0.23091544793990204)\n"
     ]
    },
    {
     "data": {
      "image/png": "[encoded data removed]",
      "text/plain": [
       "<Figure size 432x288 with 1 Axes>"
      ]
     },
     "metadata": {
      "needs_background": "light"
     },
     "output_type": "display_data"
    },
    {
     "name": "stdout",
     "output_type": "stream",
     "text": [
      "(0.7928595542907715, 5.970820204195391e-37)\n",
      "(0.8374304175376892, 4.8441293328210875e-15)\n"
     ]
    }
   ],
   "source": [
    "df_subset_no_att = df_subset[(df_subset['Attrition_var'] == 0)]\n",
    "df_subset_att = df_subset[(df_subset['Attrition_var'] == 1)]\n",
    "\n",
    "print(stats.describe(df_subset_no_att['WorkLifeBalance']))\n",
    "print(stats.describe(df_subset_att['WorkLifeBalance']))\n",
    "\n",
    "plt.hist(df_subset_no_att['WorkLifeBalance'],alpha =.05)\n",
    "plt.hist(df_subset_att['WorkLifeBalance'], alpha =.05)\n",
    "plt.xticks(range(1,5))\n",
    "plt.title(\"Distribution of Work/ Life Balance\")\n",
    "plt.show()\n",
    "\n",
    "\n",
    "print(stats.shapiro(df_subset_no_att['WorkLifeBalance']))\n",
    "print(stats.shapiro(df_subset_att['WorkLifeBalance']))"
   ]
  },
  {
   "cell_type": "markdown",
   "metadata": {},
   "source": [
    "The shapiro test and graphs above confirm non-normal distribution for work/life balance. Therefore, I'll run a Kruskal-Wallace test. Note the null hypotheses is that there is no meaningful difference in work/ life balance for employees who attrite vs. employees who do not attrite. The alpha is .05."
   ]
  },
  {
   "cell_type": "code",
   "execution_count": 113,
   "metadata": {},
   "outputs": [
    {
     "name": "stdout",
     "output_type": "stream",
     "text": [
      "KruskalResult(statistic=3.9647480307735052, pvalue=0.046462475088493646)\n"
     ]
    }
   ],
   "source": [
    "print(stats.kruskal(df_subset_no_att['WorkLifeBalance'],df_subset_att['WorkLifeBalance']))"
   ]
  },
  {
   "cell_type": "markdown",
   "metadata": {},
   "source": [
    "The p-value is right at the cut-off and after looking at the data visually, I am going to fail to reject the null hypothesis."
   ]
  },
  {
   "cell_type": "markdown",
   "metadata": {},
   "source": [
    "# Are employees who travel further for work, on average, at higher risk for attrition?"
   ]
  },
  {
   "cell_type": "code",
   "execution_count": 144,
   "metadata": {},
   "outputs": [
    {
     "name": "stdout",
     "output_type": "stream",
     "text": [
      "DescribeResult(nobs=1233, minmax=(1, 29), mean=8.915652879156529, variance=64.2022953729158, skewness=1.0278532177701256, kurtosis=-0.049035971751739904)\n",
      "DescribeResult(nobs=237, minmax=(1, 29), mean=10.632911392405063, variance=71.44518343703068, skewness=0.6318715334830777, kurtosis=-0.8674734233081853)\n"
     ]
    },
    {
     "data": {
      "image/png": "[encoded data removed]",
      "text/plain": [
       "<Figure size 432x288 with 1 Axes>"
      ]
     },
     "metadata": {
      "needs_background": "light"
     },
     "output_type": "display_data"
    },
    {
     "name": "stdout",
     "output_type": "stream",
     "text": [
      "(0.8534793257713318, 2.4682859931885524e-32)\n",
      "(0.8959434628486633, 9.868997979944893e-12)\n"
     ]
    }
   ],
   "source": [
    "print(stats.describe(df_subset_no_att['DistanceFromHome']))\n",
    "print(stats.describe(df_subset_att['DistanceFromHome']))\n",
    "\n",
    "# graph the distribution\n",
    "plt.hist(df_subset_no_att['DistanceFromHome'],alpha =.05)\n",
    "plt.hist(df_subset_att['DistanceFromHome'], alpha =.05)\n",
    "plt.title(\"Distribution of Commuting Distance\")\n",
    "plt.show()\n",
    "\n",
    "print(stats.shapiro(df_subset_no_att['DistanceFromHome']))\n",
    "print(stats.shapiro(df_subset_att['DistanceFromHome']))"
   ]
  },
  {
   "cell_type": "code",
   "execution_count": 156,
   "metadata": {},
   "outputs": [
    {
     "data": {
      "image/png": "[encoded data removed]",
      "text/plain": [
       "<Figure size 720x432 with 1 Axes>"
      ]
     },
     "metadata": {
      "needs_background": "light"
     },
     "output_type": "display_data"
    }
   ],
   "source": [
    "df_subset.boxplot('DistanceFromHome', by = 'Attrition_var', figsize = (10,6))\n",
    "plt.grid(False)\n",
    "plt.show()"
   ]
  },
  {
   "cell_type": "markdown",
   "metadata": {},
   "source": [
    "Employees who have left IBM have, on average, a longer commute than those who stayed with the company. The range for both groups is between 1 and 29 miles. Based on the graph and the shapiro-wilkes test, it does not folow a normal-distribution and will require a non-parametric test. The boxplots show a wider variation and a higher average for employees who left IBM."
   ]
  },
  {
   "cell_type": "code",
   "execution_count": 136,
   "metadata": {},
   "outputs": [
    {
     "name": "stdout",
     "output_type": "stream",
     "text": [
      "KruskalResult(statistic=9.225723965000004, pvalue=0.002386383151703113)\n"
     ]
    }
   ],
   "source": [
    "print(stats.kruskal(df_subset_no_att['DistanceFromHome'],df_subset_att['DistanceFromHome']))"
   ]
  },
  {
   "cell_type": "markdown",
   "metadata": {},
   "source": [
    "After using the kruskal-wallace test, the p-value does fall in the range to reject the null hypothesis. The difference between the two averages does appear to be statistically significant. Employees who left had a wider variation, but additional information like traffic, commute time, and transportation method would be helpful data points to explain the differences, as well."
   ]
  },
  {
   "cell_type": "markdown",
   "metadata": {},
   "source": [
    "# 6. Recomendations and Results"
   ]
  },
  {
   "cell_type": "markdown",
   "metadata": {},
   "source": [
    "Attrition appears to be highest in the sales department. Further analysis may be useful to understand specific factors that impact each department. Overall attrition did not appear to be significantly impacted by work/life balance, but further research into other independent variables (e.g., job satisfaction) may reveal more statistically significant impact. Employees who left IBM, traveled further for work on average compared to those who stated. The p-value (.002) indicates this appears to be a statistically significant difference. Collecting additional information like traffic, commute time, and transportation method would be helpful data points to explain the differences, as well."
   ]
  }
 ],
 "metadata": {
  "kernelspec": {
   "display_name": "Python 3",
   "language": "python",
   "name": "python3"
  },
  "language_info": {
   "codemirror_mode": {
    "name": "ipython",
    "version": 3
   },
   "file_extension": ".py",
   "mimetype": "text/x-python",
   "name": "python",
   "nbconvert_exporter": "python",
   "pygments_lexer": "ipython3",
   "version": "3.7.4"
  }
 },
 "nbformat": 4,
 "nbformat_minor": 2
}
