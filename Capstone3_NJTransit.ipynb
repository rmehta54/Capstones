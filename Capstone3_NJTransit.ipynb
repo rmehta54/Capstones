{
 "cells": [
  {
   "cell_type": "markdown",
   "metadata": {},
   "source": [
    "# Capstone 3 - Evaluating Train Performance\n",
    "\n",
    "Using a sample dataset of train schedules from March 2018, I will used unsupervised learning techniques to identify patterns in delayed trains. Then I will used a supervised technique to predict delays.  "
   ]
  },
  {
   "cell_type": "code",
   "execution_count": 1,
   "metadata": {},
   "outputs": [],
   "source": [
    "import numpy as np\n",
    "import pandas as pd\n",
    "import time\n",
    "import datetime\n",
    "import matplotlib.pyplot as plt\n",
    "import seaborn as sns"
   ]
  },
  {
   "cell_type": "markdown",
   "metadata": {},
   "source": [
    "# 1) Load Dataset"
   ]
  },
  {
   "cell_type": "markdown",
   "metadata": {},
   "source": [
    "The dataset is from Kaggle (link below) and includes train trip data from March 2018. The data was gathered by scraping NJ Transit site. It has 13 columns and 256,508 rows.\n",
    "\n",
    "https://www.kaggle.com/pranavbadami/nj-transit-amtrak-nec-performance"
   ]
  },
  {
   "cell_type": "code",
   "execution_count": 2,
   "metadata": {},
   "outputs": [],
   "source": [
    "path = r\"C:\\\\Users\\Raj.Mehta\\OneDrive - Wolters Kluwer\\Downloads\\2018_03.csv\"\n",
    "\n",
    "raw_df = pd.read_csv(path)"
   ]
  },
  {
   "cell_type": "code",
   "execution_count": 138,
   "metadata": {},
   "outputs": [
    {
     "data": {
      "text/html": [
       "<div>\n",
       "<style scoped>\n",
       "    .dataframe tbody tr th:only-of-type {\n",
       "        vertical-align: middle;\n",
       "    }\n",
       "\n",
       "    .dataframe tbody tr th {\n",
       "        vertical-align: top;\n",
       "    }\n",
       "\n",
       "    .dataframe thead th {\n",
       "        text-align: right;\n",
       "    }\n",
       "</style>\n",
       "<table border=\"1\" class=\"dataframe\">\n",
       "  <thead>\n",
       "    <tr style=\"text-align: right;\">\n",
       "      <th></th>\n",
       "      <th>date</th>\n",
       "      <th>train_id</th>\n",
       "      <th>stop_sequence</th>\n",
       "      <th>from</th>\n",
       "      <th>from_id</th>\n",
       "      <th>to</th>\n",
       "      <th>to_id</th>\n",
       "      <th>scheduled_time</th>\n",
       "      <th>actual_time</th>\n",
       "      <th>delay_minutes</th>\n",
       "      <th>status</th>\n",
       "      <th>line</th>\n",
       "      <th>type</th>\n",
       "    </tr>\n",
       "  </thead>\n",
       "  <tbody>\n",
       "    <tr>\n",
       "      <td>0</td>\n",
       "      <td>2018-03-01</td>\n",
       "      <td>3805</td>\n",
       "      <td>1.0</td>\n",
       "      <td>New York Penn Station</td>\n",
       "      <td>105</td>\n",
       "      <td>New York Penn Station</td>\n",
       "      <td>105</td>\n",
       "      <td>2018-03-02 01:22:00</td>\n",
       "      <td>2018-03-02 01:21:05</td>\n",
       "      <td>0.000000</td>\n",
       "      <td>departed</td>\n",
       "      <td>Northeast Corrdr</td>\n",
       "      <td>NJ Transit</td>\n",
       "    </tr>\n",
       "    <tr>\n",
       "      <td>1</td>\n",
       "      <td>2018-03-01</td>\n",
       "      <td>3805</td>\n",
       "      <td>2.0</td>\n",
       "      <td>New York Penn Station</td>\n",
       "      <td>105</td>\n",
       "      <td>Secaucus Upper Lvl</td>\n",
       "      <td>38187</td>\n",
       "      <td>2018-03-02 01:31:00</td>\n",
       "      <td>2018-03-02 01:31:08</td>\n",
       "      <td>0.133333</td>\n",
       "      <td>departed</td>\n",
       "      <td>Northeast Corrdr</td>\n",
       "      <td>NJ Transit</td>\n",
       "    </tr>\n",
       "    <tr>\n",
       "      <td>2</td>\n",
       "      <td>2018-03-01</td>\n",
       "      <td>3805</td>\n",
       "      <td>3.0</td>\n",
       "      <td>Secaucus Upper Lvl</td>\n",
       "      <td>38187</td>\n",
       "      <td>Newark Penn Station</td>\n",
       "      <td>107</td>\n",
       "      <td>2018-03-02 01:40:00</td>\n",
       "      <td>2018-03-02 01:40:07</td>\n",
       "      <td>0.116667</td>\n",
       "      <td>departed</td>\n",
       "      <td>Northeast Corrdr</td>\n",
       "      <td>NJ Transit</td>\n",
       "    </tr>\n",
       "    <tr>\n",
       "      <td>3</td>\n",
       "      <td>2018-03-01</td>\n",
       "      <td>3805</td>\n",
       "      <td>4.0</td>\n",
       "      <td>Newark Penn Station</td>\n",
       "      <td>107</td>\n",
       "      <td>Newark Airport</td>\n",
       "      <td>37953</td>\n",
       "      <td>2018-03-02 01:45:00</td>\n",
       "      <td>2018-03-02 01:45:10</td>\n",
       "      <td>0.166667</td>\n",
       "      <td>departed</td>\n",
       "      <td>Northeast Corrdr</td>\n",
       "      <td>NJ Transit</td>\n",
       "    </tr>\n",
       "    <tr>\n",
       "      <td>4</td>\n",
       "      <td>2018-03-01</td>\n",
       "      <td>3805</td>\n",
       "      <td>5.0</td>\n",
       "      <td>Newark Airport</td>\n",
       "      <td>37953</td>\n",
       "      <td>North Elizabeth</td>\n",
       "      <td>109</td>\n",
       "      <td>2018-03-02 01:49:00</td>\n",
       "      <td>2018-03-02 01:49:10</td>\n",
       "      <td>0.166667</td>\n",
       "      <td>departed</td>\n",
       "      <td>Northeast Corrdr</td>\n",
       "      <td>NJ Transit</td>\n",
       "    </tr>\n",
       "    <tr>\n",
       "      <td>5</td>\n",
       "      <td>2018-03-01</td>\n",
       "      <td>3805</td>\n",
       "      <td>6.0</td>\n",
       "      <td>North Elizabeth</td>\n",
       "      <td>109</td>\n",
       "      <td>Elizabeth</td>\n",
       "      <td>41</td>\n",
       "      <td>2018-03-02 01:52:00</td>\n",
       "      <td>2018-03-02 01:52:01</td>\n",
       "      <td>0.016667</td>\n",
       "      <td>departed</td>\n",
       "      <td>Northeast Corrdr</td>\n",
       "      <td>NJ Transit</td>\n",
       "    </tr>\n",
       "    <tr>\n",
       "      <td>6</td>\n",
       "      <td>2018-03-01</td>\n",
       "      <td>3805</td>\n",
       "      <td>7.0</td>\n",
       "      <td>Elizabeth</td>\n",
       "      <td>41</td>\n",
       "      <td>Linden</td>\n",
       "      <td>70</td>\n",
       "      <td>2018-03-02 01:58:00</td>\n",
       "      <td>2018-03-02 01:58:05</td>\n",
       "      <td>0.083333</td>\n",
       "      <td>departed</td>\n",
       "      <td>Northeast Corrdr</td>\n",
       "      <td>NJ Transit</td>\n",
       "    </tr>\n",
       "    <tr>\n",
       "      <td>7</td>\n",
       "      <td>2018-03-01</td>\n",
       "      <td>3805</td>\n",
       "      <td>8.0</td>\n",
       "      <td>Linden</td>\n",
       "      <td>70</td>\n",
       "      <td>Rahway</td>\n",
       "      <td>127</td>\n",
       "      <td>2018-03-02 02:02:00</td>\n",
       "      <td>2018-03-02 02:01:03</td>\n",
       "      <td>0.000000</td>\n",
       "      <td>departed</td>\n",
       "      <td>Northeast Corrdr</td>\n",
       "      <td>NJ Transit</td>\n",
       "    </tr>\n",
       "    <tr>\n",
       "      <td>8</td>\n",
       "      <td>2018-03-01</td>\n",
       "      <td>3805</td>\n",
       "      <td>9.0</td>\n",
       "      <td>Rahway</td>\n",
       "      <td>127</td>\n",
       "      <td>Metropark</td>\n",
       "      <td>83</td>\n",
       "      <td>2018-03-02 02:08:00</td>\n",
       "      <td>2018-03-02 02:08:00</td>\n",
       "      <td>0.000000</td>\n",
       "      <td>departed</td>\n",
       "      <td>Northeast Corrdr</td>\n",
       "      <td>NJ Transit</td>\n",
       "    </tr>\n",
       "    <tr>\n",
       "      <td>9</td>\n",
       "      <td>2018-03-01</td>\n",
       "      <td>3805</td>\n",
       "      <td>10.0</td>\n",
       "      <td>Metropark</td>\n",
       "      <td>83</td>\n",
       "      <td>Metuchen</td>\n",
       "      <td>84</td>\n",
       "      <td>2018-03-02 02:13:00</td>\n",
       "      <td>2018-03-02 02:13:10</td>\n",
       "      <td>0.166667</td>\n",
       "      <td>departed</td>\n",
       "      <td>Northeast Corrdr</td>\n",
       "      <td>NJ Transit</td>\n",
       "    </tr>\n",
       "    <tr>\n",
       "      <td>10</td>\n",
       "      <td>2018-03-01</td>\n",
       "      <td>3805</td>\n",
       "      <td>11.0</td>\n",
       "      <td>Metuchen</td>\n",
       "      <td>84</td>\n",
       "      <td>Edison</td>\n",
       "      <td>38</td>\n",
       "      <td>2018-03-02 02:18:00</td>\n",
       "      <td>2018-03-02 02:18:09</td>\n",
       "      <td>0.150000</td>\n",
       "      <td>departed</td>\n",
       "      <td>Northeast Corrdr</td>\n",
       "      <td>NJ Transit</td>\n",
       "    </tr>\n",
       "    <tr>\n",
       "      <td>11</td>\n",
       "      <td>2018-03-01</td>\n",
       "      <td>3805</td>\n",
       "      <td>12.0</td>\n",
       "      <td>Edison</td>\n",
       "      <td>38</td>\n",
       "      <td>New Brunswick</td>\n",
       "      <td>103</td>\n",
       "      <td>2018-03-02 02:23:00</td>\n",
       "      <td>2018-03-02 02:23:09</td>\n",
       "      <td>0.150000</td>\n",
       "      <td>departed</td>\n",
       "      <td>Northeast Corrdr</td>\n",
       "      <td>NJ Transit</td>\n",
       "    </tr>\n",
       "    <tr>\n",
       "      <td>12</td>\n",
       "      <td>2018-03-01</td>\n",
       "      <td>3805</td>\n",
       "      <td>13.0</td>\n",
       "      <td>New Brunswick</td>\n",
       "      <td>103</td>\n",
       "      <td>Jersey Avenue</td>\n",
       "      <td>32906</td>\n",
       "      <td>2018-03-02 02:28:00</td>\n",
       "      <td>2018-03-02 02:28:08</td>\n",
       "      <td>0.133333</td>\n",
       "      <td>departed</td>\n",
       "      <td>Northeast Corrdr</td>\n",
       "      <td>NJ Transit</td>\n",
       "    </tr>\n",
       "    <tr>\n",
       "      <td>13</td>\n",
       "      <td>2018-03-01</td>\n",
       "      <td>3805</td>\n",
       "      <td>14.0</td>\n",
       "      <td>Jersey Avenue</td>\n",
       "      <td>32906</td>\n",
       "      <td>Princeton Junction</td>\n",
       "      <td>125</td>\n",
       "      <td>2018-03-02 02:42:00</td>\n",
       "      <td>2018-03-02 02:33:08</td>\n",
       "      <td>0.000000</td>\n",
       "      <td>departed</td>\n",
       "      <td>Northeast Corrdr</td>\n",
       "      <td>NJ Transit</td>\n",
       "    </tr>\n",
       "    <tr>\n",
       "      <td>14</td>\n",
       "      <td>2018-03-01</td>\n",
       "      <td>3805</td>\n",
       "      <td>15.0</td>\n",
       "      <td>Princeton Junction</td>\n",
       "      <td>125</td>\n",
       "      <td>Hamilton</td>\n",
       "      <td>32905</td>\n",
       "      <td>2018-03-02 02:49:00</td>\n",
       "      <td>2018-03-02 02:39:03</td>\n",
       "      <td>0.000000</td>\n",
       "      <td>departed</td>\n",
       "      <td>Northeast Corrdr</td>\n",
       "      <td>NJ Transit</td>\n",
       "    </tr>\n",
       "    <tr>\n",
       "      <td>15</td>\n",
       "      <td>2018-03-01</td>\n",
       "      <td>3805</td>\n",
       "      <td>16.0</td>\n",
       "      <td>Hamilton</td>\n",
       "      <td>32905</td>\n",
       "      <td>Trenton</td>\n",
       "      <td>148</td>\n",
       "      <td>2018-03-02 03:06:00</td>\n",
       "      <td>2018-03-02 02:42:00</td>\n",
       "      <td>0.000000</td>\n",
       "      <td>estimated</td>\n",
       "      <td>Northeast Corrdr</td>\n",
       "      <td>NJ Transit</td>\n",
       "    </tr>\n",
       "    <tr>\n",
       "      <td>16</td>\n",
       "      <td>2018-03-01</td>\n",
       "      <td>2312</td>\n",
       "      <td>1.0</td>\n",
       "      <td>Bay Head</td>\n",
       "      <td>13</td>\n",
       "      <td>Bay Head</td>\n",
       "      <td>13</td>\n",
       "      <td>2018-03-01 14:05:00</td>\n",
       "      <td>2018-03-01 14:06:03</td>\n",
       "      <td>1.050000</td>\n",
       "      <td>departed</td>\n",
       "      <td>No Jersey Coast</td>\n",
       "      <td>NJ Transit</td>\n",
       "    </tr>\n",
       "    <tr>\n",
       "      <td>17</td>\n",
       "      <td>2018-03-01</td>\n",
       "      <td>2312</td>\n",
       "      <td>2.0</td>\n",
       "      <td>Bay Head</td>\n",
       "      <td>13</td>\n",
       "      <td>Point Pleasant Beach</td>\n",
       "      <td>122</td>\n",
       "      <td>2018-03-01 14:09:00</td>\n",
       "      <td>2018-03-01 14:12:03</td>\n",
       "      <td>3.050000</td>\n",
       "      <td>departed</td>\n",
       "      <td>No Jersey Coast</td>\n",
       "      <td>NJ Transit</td>\n",
       "    </tr>\n",
       "    <tr>\n",
       "      <td>18</td>\n",
       "      <td>2018-03-01</td>\n",
       "      <td>2312</td>\n",
       "      <td>3.0</td>\n",
       "      <td>Point Pleasant Beach</td>\n",
       "      <td>122</td>\n",
       "      <td>Manasquan</td>\n",
       "      <td>79</td>\n",
       "      <td>2018-03-01 14:14:00</td>\n",
       "      <td>2018-03-01 14:17:10</td>\n",
       "      <td>3.166667</td>\n",
       "      <td>departed</td>\n",
       "      <td>No Jersey Coast</td>\n",
       "      <td>NJ Transit</td>\n",
       "    </tr>\n",
       "    <tr>\n",
       "      <td>19</td>\n",
       "      <td>2018-03-01</td>\n",
       "      <td>2312</td>\n",
       "      <td>4.0</td>\n",
       "      <td>Manasquan</td>\n",
       "      <td>79</td>\n",
       "      <td>Spring Lake</td>\n",
       "      <td>141</td>\n",
       "      <td>2018-03-01 14:18:00</td>\n",
       "      <td>2018-03-01 14:21:02</td>\n",
       "      <td>3.033333</td>\n",
       "      <td>departed</td>\n",
       "      <td>No Jersey Coast</td>\n",
       "      <td>NJ Transit</td>\n",
       "    </tr>\n",
       "  </tbody>\n",
       "</table>\n",
       "</div>"
      ],
      "text/plain": [
       "          date train_id  stop_sequence                   from  from_id  \\\n",
       "0   2018-03-01     3805            1.0  New York Penn Station      105   \n",
       "1   2018-03-01     3805            2.0  New York Penn Station      105   \n",
       "2   2018-03-01     3805            3.0     Secaucus Upper Lvl    38187   \n",
       "3   2018-03-01     3805            4.0    Newark Penn Station      107   \n",
       "4   2018-03-01     3805            5.0         Newark Airport    37953   \n",
       "5   2018-03-01     3805            6.0        North Elizabeth      109   \n",
       "6   2018-03-01     3805            7.0              Elizabeth       41   \n",
       "7   2018-03-01     3805            8.0                 Linden       70   \n",
       "8   2018-03-01     3805            9.0                 Rahway      127   \n",
       "9   2018-03-01     3805           10.0              Metropark       83   \n",
       "10  2018-03-01     3805           11.0               Metuchen       84   \n",
       "11  2018-03-01     3805           12.0                 Edison       38   \n",
       "12  2018-03-01     3805           13.0          New Brunswick      103   \n",
       "13  2018-03-01     3805           14.0          Jersey Avenue    32906   \n",
       "14  2018-03-01     3805           15.0     Princeton Junction      125   \n",
       "15  2018-03-01     3805           16.0               Hamilton    32905   \n",
       "16  2018-03-01     2312            1.0               Bay Head       13   \n",
       "17  2018-03-01     2312            2.0               Bay Head       13   \n",
       "18  2018-03-01     2312            3.0   Point Pleasant Beach      122   \n",
       "19  2018-03-01     2312            4.0              Manasquan       79   \n",
       "\n",
       "                       to  to_id       scheduled_time          actual_time  \\\n",
       "0   New York Penn Station    105  2018-03-02 01:22:00  2018-03-02 01:21:05   \n",
       "1      Secaucus Upper Lvl  38187  2018-03-02 01:31:00  2018-03-02 01:31:08   \n",
       "2     Newark Penn Station    107  2018-03-02 01:40:00  2018-03-02 01:40:07   \n",
       "3          Newark Airport  37953  2018-03-02 01:45:00  2018-03-02 01:45:10   \n",
       "4         North Elizabeth    109  2018-03-02 01:49:00  2018-03-02 01:49:10   \n",
       "5               Elizabeth     41  2018-03-02 01:52:00  2018-03-02 01:52:01   \n",
       "6                  Linden     70  2018-03-02 01:58:00  2018-03-02 01:58:05   \n",
       "7                  Rahway    127  2018-03-02 02:02:00  2018-03-02 02:01:03   \n",
       "8               Metropark     83  2018-03-02 02:08:00  2018-03-02 02:08:00   \n",
       "9                Metuchen     84  2018-03-02 02:13:00  2018-03-02 02:13:10   \n",
       "10                 Edison     38  2018-03-02 02:18:00  2018-03-02 02:18:09   \n",
       "11          New Brunswick    103  2018-03-02 02:23:00  2018-03-02 02:23:09   \n",
       "12          Jersey Avenue  32906  2018-03-02 02:28:00  2018-03-02 02:28:08   \n",
       "13     Princeton Junction    125  2018-03-02 02:42:00  2018-03-02 02:33:08   \n",
       "14               Hamilton  32905  2018-03-02 02:49:00  2018-03-02 02:39:03   \n",
       "15                Trenton    148  2018-03-02 03:06:00  2018-03-02 02:42:00   \n",
       "16               Bay Head     13  2018-03-01 14:05:00  2018-03-01 14:06:03   \n",
       "17   Point Pleasant Beach    122  2018-03-01 14:09:00  2018-03-01 14:12:03   \n",
       "18              Manasquan     79  2018-03-01 14:14:00  2018-03-01 14:17:10   \n",
       "19            Spring Lake    141  2018-03-01 14:18:00  2018-03-01 14:21:02   \n",
       "\n",
       "    delay_minutes     status              line        type  \n",
       "0        0.000000   departed  Northeast Corrdr  NJ Transit  \n",
       "1        0.133333   departed  Northeast Corrdr  NJ Transit  \n",
       "2        0.116667   departed  Northeast Corrdr  NJ Transit  \n",
       "3        0.166667   departed  Northeast Corrdr  NJ Transit  \n",
       "4        0.166667   departed  Northeast Corrdr  NJ Transit  \n",
       "5        0.016667   departed  Northeast Corrdr  NJ Transit  \n",
       "6        0.083333   departed  Northeast Corrdr  NJ Transit  \n",
       "7        0.000000   departed  Northeast Corrdr  NJ Transit  \n",
       "8        0.000000   departed  Northeast Corrdr  NJ Transit  \n",
       "9        0.166667   departed  Northeast Corrdr  NJ Transit  \n",
       "10       0.150000   departed  Northeast Corrdr  NJ Transit  \n",
       "11       0.150000   departed  Northeast Corrdr  NJ Transit  \n",
       "12       0.133333   departed  Northeast Corrdr  NJ Transit  \n",
       "13       0.000000   departed  Northeast Corrdr  NJ Transit  \n",
       "14       0.000000   departed  Northeast Corrdr  NJ Transit  \n",
       "15       0.000000  estimated  Northeast Corrdr  NJ Transit  \n",
       "16       1.050000   departed   No Jersey Coast  NJ Transit  \n",
       "17       3.050000   departed   No Jersey Coast  NJ Transit  \n",
       "18       3.166667   departed   No Jersey Coast  NJ Transit  \n",
       "19       3.033333   departed   No Jersey Coast  NJ Transit  "
      ]
     },
     "execution_count": 138,
     "metadata": {},
     "output_type": "execute_result"
    }
   ],
   "source": [
    "raw_df.head(20)"
   ]
  },
  {
   "cell_type": "markdown",
   "metadata": {},
   "source": [
    "Each row represents a trip from one station to the next. Since each row includes the scheduled time and actual time, the first stop is almost always repeated. Only 11 rows do not follow this pattern."
   ]
  },
  {
   "cell_type": "code",
   "execution_count": 91,
   "metadata": {},
   "outputs": [
    {
     "data": {
      "text/plain": [
       "(11, 13)"
      ]
     },
     "execution_count": 91,
     "metadata": {},
     "output_type": "execute_result"
    }
   ],
   "source": [
    "raw_df[(raw_df['stop_sequence'] == 1.0) & (raw_df['from'] != raw_df['to'])].shape"
   ]
  },
  {
   "cell_type": "code",
   "execution_count": 7,
   "metadata": {},
   "outputs": [
    {
     "name": "stdout",
     "output_type": "stream",
     "text": [
      "<class 'pandas.core.frame.DataFrame'>\n",
      "RangeIndex: 256508 entries, 0 to 256507\n",
      "Data columns (total 13 columns):\n",
      "date              256508 non-null object\n",
      "train_id          256508 non-null object\n",
      "stop_sequence     243028 non-null float64\n",
      "from              256508 non-null object\n",
      "from_id           256508 non-null int64\n",
      "to                256508 non-null object\n",
      "to_id             256508 non-null int64\n",
      "scheduled_time    243028 non-null object\n",
      "actual_time       256508 non-null object\n",
      "delay_minutes     243028 non-null float64\n",
      "status            256508 non-null object\n",
      "line              256508 non-null object\n",
      "type              256508 non-null object\n",
      "dtypes: float64(2), int64(2), object(9)\n",
      "memory usage: 25.4+ MB\n"
     ]
    }
   ],
   "source": [
    "raw_df.info()"
   ]
  },
  {
   "cell_type": "markdown",
   "metadata": {},
   "source": [
    "# 2) EDA"
   ]
  },
  {
   "cell_type": "code",
   "execution_count": 9,
   "metadata": {},
   "outputs": [
    {
     "data": {
      "text/html": [
       "<div>\n",
       "<style scoped>\n",
       "    .dataframe tbody tr th:only-of-type {\n",
       "        vertical-align: middle;\n",
       "    }\n",
       "\n",
       "    .dataframe tbody tr th {\n",
       "        vertical-align: top;\n",
       "    }\n",
       "\n",
       "    .dataframe thead th {\n",
       "        text-align: right;\n",
       "    }\n",
       "</style>\n",
       "<table border=\"1\" class=\"dataframe\">\n",
       "  <thead>\n",
       "    <tr style=\"text-align: right;\">\n",
       "      <th></th>\n",
       "      <th>stop_sequence</th>\n",
       "      <th>from_id</th>\n",
       "      <th>to_id</th>\n",
       "      <th>delay_minutes</th>\n",
       "    </tr>\n",
       "  </thead>\n",
       "  <tbody>\n",
       "    <tr>\n",
       "      <td>count</td>\n",
       "      <td>243028.000000</td>\n",
       "      <td>256508.000000</td>\n",
       "      <td>256508.000000</td>\n",
       "      <td>243028.000000</td>\n",
       "    </tr>\n",
       "    <tr>\n",
       "      <td>mean</td>\n",
       "      <td>7.981661</td>\n",
       "      <td>4150.178474</td>\n",
       "      <td>4159.246971</td>\n",
       "      <td>3.548316</td>\n",
       "    </tr>\n",
       "    <tr>\n",
       "      <td>std</td>\n",
       "      <td>5.074539</td>\n",
       "      <td>11708.973053</td>\n",
       "      <td>11718.667560</td>\n",
       "      <td>6.680843</td>\n",
       "    </tr>\n",
       "    <tr>\n",
       "      <td>min</td>\n",
       "      <td>1.000000</td>\n",
       "      <td>1.000000</td>\n",
       "      <td>1.000000</td>\n",
       "      <td>0.000000</td>\n",
       "    </tr>\n",
       "    <tr>\n",
       "      <td>25%</td>\n",
       "      <td>4.000000</td>\n",
       "      <td>58.000000</td>\n",
       "      <td>58.000000</td>\n",
       "      <td>0.233333</td>\n",
       "    </tr>\n",
       "    <tr>\n",
       "      <td>50%</td>\n",
       "      <td>7.000000</td>\n",
       "      <td>104.000000</td>\n",
       "      <td>104.000000</td>\n",
       "      <td>2.100000</td>\n",
       "    </tr>\n",
       "    <tr>\n",
       "      <td>75%</td>\n",
       "      <td>11.000000</td>\n",
       "      <td>136.000000</td>\n",
       "      <td>136.000000</td>\n",
       "      <td>4.116667</td>\n",
       "    </tr>\n",
       "    <tr>\n",
       "      <td>max</td>\n",
       "      <td>26.000000</td>\n",
       "      <td>43599.000000</td>\n",
       "      <td>43599.000000</td>\n",
       "      <td>111.183333</td>\n",
       "    </tr>\n",
       "  </tbody>\n",
       "</table>\n",
       "</div>"
      ],
      "text/plain": [
       "       stop_sequence        from_id          to_id  delay_minutes\n",
       "count  243028.000000  256508.000000  256508.000000  243028.000000\n",
       "mean        7.981661    4150.178474    4159.246971       3.548316\n",
       "std         5.074539   11708.973053   11718.667560       6.680843\n",
       "min         1.000000       1.000000       1.000000       0.000000\n",
       "25%         4.000000      58.000000      58.000000       0.233333\n",
       "50%         7.000000     104.000000     104.000000       2.100000\n",
       "75%        11.000000     136.000000     136.000000       4.116667\n",
       "max        26.000000   43599.000000   43599.000000     111.183333"
      ]
     },
     "execution_count": 9,
     "metadata": {},
     "output_type": "execute_result"
    }
   ],
   "source": [
    "# summary of numerical attributes\n",
    "raw_df.describe()"
   ]
  },
  {
   "cell_type": "code",
   "execution_count": 10,
   "metadata": {},
   "outputs": [
    {
     "data": {
      "text/html": [
       "<div>\n",
       "<style scoped>\n",
       "    .dataframe tbody tr th:only-of-type {\n",
       "        vertical-align: middle;\n",
       "    }\n",
       "\n",
       "    .dataframe tbody tr th {\n",
       "        vertical-align: top;\n",
       "    }\n",
       "\n",
       "    .dataframe thead th {\n",
       "        text-align: right;\n",
       "    }\n",
       "</style>\n",
       "<table border=\"1\" class=\"dataframe\">\n",
       "  <thead>\n",
       "    <tr style=\"text-align: right;\">\n",
       "      <th></th>\n",
       "      <th>date</th>\n",
       "      <th>train_id</th>\n",
       "      <th>from</th>\n",
       "      <th>to</th>\n",
       "      <th>scheduled_time</th>\n",
       "      <th>actual_time</th>\n",
       "      <th>status</th>\n",
       "      <th>line</th>\n",
       "      <th>type</th>\n",
       "    </tr>\n",
       "  </thead>\n",
       "  <tbody>\n",
       "    <tr>\n",
       "      <td>count</td>\n",
       "      <td>256508</td>\n",
       "      <td>256508</td>\n",
       "      <td>256508</td>\n",
       "      <td>256508</td>\n",
       "      <td>243028</td>\n",
       "      <td>256508</td>\n",
       "      <td>256508</td>\n",
       "      <td>256508</td>\n",
       "      <td>256508</td>\n",
       "    </tr>\n",
       "    <tr>\n",
       "      <td>unique</td>\n",
       "      <td>31</td>\n",
       "      <td>1539</td>\n",
       "      <td>165</td>\n",
       "      <td>165</td>\n",
       "      <td>39408</td>\n",
       "      <td>178287</td>\n",
       "      <td>3</td>\n",
       "      <td>28</td>\n",
       "      <td>2</td>\n",
       "    </tr>\n",
       "    <tr>\n",
       "      <td>top</td>\n",
       "      <td>2018-03-30</td>\n",
       "      <td>0062</td>\n",
       "      <td>New York Penn Station</td>\n",
       "      <td>New York Penn Station</td>\n",
       "      <td>2018-03-28 18:42:00</td>\n",
       "      <td>2018-03-06 23:55:30</td>\n",
       "      <td>departed</td>\n",
       "      <td>Northeast Corrdr</td>\n",
       "      <td>NJ Transit</td>\n",
       "    </tr>\n",
       "    <tr>\n",
       "      <td>freq</td>\n",
       "      <td>10311</td>\n",
       "      <td>520</td>\n",
       "      <td>10700</td>\n",
       "      <td>10795</td>\n",
       "      <td>20</td>\n",
       "      <td>41</td>\n",
       "      <td>230066</td>\n",
       "      <td>37692</td>\n",
       "      <td>244186</td>\n",
       "    </tr>\n",
       "  </tbody>\n",
       "</table>\n",
       "</div>"
      ],
      "text/plain": [
       "              date train_id                   from                     to  \\\n",
       "count       256508   256508                 256508                 256508   \n",
       "unique          31     1539                    165                    165   \n",
       "top     2018-03-30     0062  New York Penn Station  New York Penn Station   \n",
       "freq         10311      520                  10700                  10795   \n",
       "\n",
       "             scheduled_time          actual_time    status              line  \\\n",
       "count                243028               256508    256508            256508   \n",
       "unique                39408               178287         3                28   \n",
       "top     2018-03-28 18:42:00  2018-03-06 23:55:30  departed  Northeast Corrdr   \n",
       "freq                     20                   41    230066             37692   \n",
       "\n",
       "              type  \n",
       "count       256508  \n",
       "unique           2  \n",
       "top     NJ Transit  \n",
       "freq        244186  "
      ]
     },
     "execution_count": 10,
     "metadata": {},
     "output_type": "execute_result"
    }
   ],
   "source": [
    "# summary of categorical attributes\n",
    "\n",
    "raw_df.describe(include = ['O'])"
   ]
  },
  {
   "cell_type": "markdown",
   "metadata": {},
   "source": [
    "Date, scheduled_time, and actual time will need to be converted to date time types. Also, train_id will need to be converted into a numerical feature."
   ]
  },
  {
   "cell_type": "code",
   "execution_count": 3,
   "metadata": {},
   "outputs": [],
   "source": [
    "# will create a copy of dataframe to start making changes to underlying data\n",
    "\n",
    "df = raw_df.copy()"
   ]
  },
  {
   "cell_type": "code",
   "execution_count": 4,
   "metadata": {},
   "outputs": [],
   "source": [
    "# convert categorical attributes\n",
    "\n",
    "df['scheduled_time'] = pd.to_datetime(df['scheduled_time'])\n",
    "df['actual_time'] = pd.to_datetime(df['actual_time'])\n",
    "#df['date'] = pd.to_datetime(df['date'], format = '%Y-%m-%d')"
   ]
  },
  {
   "cell_type": "code",
   "execution_count": 300,
   "metadata": {},
   "outputs": [
    {
     "name": "stdout",
     "output_type": "stream",
     "text": [
      "<class 'pandas.core.frame.DataFrame'>\n",
      "Int64Index: 243028 entries, 0 to 256507\n",
      "Data columns (total 16 columns):\n",
      "date              243028 non-null object\n",
      "train_id          243028 non-null object\n",
      "stop_sequence     243028 non-null float64\n",
      "from              243028 non-null object\n",
      "from_id           243028 non-null int64\n",
      "to                243028 non-null object\n",
      "to_id             243028 non-null int64\n",
      "scheduled_time    243028 non-null object\n",
      "actual_time       243028 non-null object\n",
      "delay_minutes     243028 non-null float64\n",
      "status            243028 non-null object\n",
      "line              243028 non-null object\n",
      "type              243028 non-null object\n",
      "day_of_week       243028 non-null object\n",
      "ac_time           243028 non-null object\n",
      "sc_time           243028 non-null object\n",
      "dtypes: float64(2), int64(2), object(12)\n",
      "memory usage: 41.5+ MB\n"
     ]
    }
   ],
   "source": [
    "df.info()"
   ]
  },
  {
   "cell_type": "code",
   "execution_count": 22,
   "metadata": {},
   "outputs": [
    {
     "data": {
      "text/plain": [
       "date                  0\n",
       "train_id              0\n",
       "stop_sequence     13480\n",
       "from                  0\n",
       "from_id               0\n",
       "to                    0\n",
       "to_id                 0\n",
       "scheduled_time    13480\n",
       "actual_time           0\n",
       "delay_minutes     13480\n",
       "status                0\n",
       "line                  0\n",
       "type                  0\n",
       "dtype: int64"
      ]
     },
     "execution_count": 22,
     "metadata": {},
     "output_type": "execute_result"
    }
   ],
   "source": [
    "# check for missing values\n",
    "\n",
    "df.isnull().sum()"
   ]
  },
  {
   "cell_type": "markdown",
   "metadata": {},
   "source": [
    "As the analysis will use delays, I will need values in the scheduled time. Imputing does not seem like a valid option and with 256K rows, I can delete the rows with missing data."
   ]
  },
  {
   "cell_type": "code",
   "execution_count": 5,
   "metadata": {},
   "outputs": [],
   "source": [
    "df.dropna(axis=0, subset=['scheduled_time'], inplace = True)"
   ]
  },
  {
   "cell_type": "code",
   "execution_count": 6,
   "metadata": {},
   "outputs": [],
   "source": [
    "# add a variable with day of the week and time\n",
    "\n",
    "df['day_of_week'] = pd.to_datetime(df['date']).dt.dayofweek\n",
    "df['day_of_week'] = df['day_of_week'].replace([0,1,2,3,4,5,6], ['Mon','Tue','Wed','Thu','Fri','Sat','Sun'])\n",
    "#df['departure_time'] = pd.to_datetime(df['scheduled_time']).dt.time\n",
    "#df['actual_time'] = pd.to_datetime(df['actual_time']).dt.time\n"
   ]
  },
  {
   "cell_type": "markdown",
   "metadata": {},
   "source": [
    "Now that the data is relatively clean, I'll begin to explore it visually."
   ]
  },
  {
   "cell_type": "markdown",
   "metadata": {},
   "source": [
    "<b> 1 ) What is the percentage of trips by status?"
   ]
  },
  {
   "cell_type": "code",
   "execution_count": 73,
   "metadata": {},
   "outputs": [
    {
     "data": {
      "image/png": "[encoded data removed]",
      "text/plain": [
       "<Figure size 432x288 with 1 Axes>"
      ]
     },
     "metadata": {
      "needs_background": "light"
     },
     "output_type": "display_data"
    },
    {
     "data": {
      "text/plain": [
       "departed     0.895177\n",
       "estimated    0.087389\n",
       "cancelled    0.017434\n",
       "Name: status, dtype: float64"
      ]
     },
     "execution_count": 73,
     "metadata": {},
     "output_type": "execute_result"
    }
   ],
   "source": [
    "total = len(df.index)\n",
    "status = df['status'].value_counts() / total\n",
    "\n",
    "plt.title(\"% of Trips by Status\")\n",
    "status.plot(kind = 'bar')\n",
    "plt.show()\n",
    "\n",
    "status"
   ]
  },
  {
   "cell_type": "markdown",
   "metadata": {},
   "source": [
    "Only ~2% of trains were cancelled"
   ]
  },
  {
   "cell_type": "markdown",
   "metadata": {},
   "source": [
    "<b> 2) How many trips were taken in the month?"
   ]
  },
  {
   "cell_type": "code",
   "execution_count": 8,
   "metadata": {},
   "outputs": [
    {
     "name": "stdout",
     "output_type": "stream",
     "text": [
      "On average, there were 7212.0 trips per day\n"
     ]
    }
   ],
   "source": [
    "# will remove first trip from each calculation\n",
    "\n",
    "df_trips = df.copy()\n",
    "\n",
    "df_trips = df[(df['from'] != df['to'])]\n",
    "\n",
    "print('On average, there were {} trips per day'.format(round(df_trips['date'].count() / df_trips['date'].nunique(),0)))"
   ]
  },
  {
   "cell_type": "code",
   "execution_count": 94,
   "metadata": {},
   "outputs": [
    {
     "data": {
      "image/png": "[encoded data removed]",
      "text/plain": [
       "<Figure size 1080x720 with 1 Axes>"
      ]
     },
     "metadata": {
      "needs_background": "light"
     },
     "output_type": "display_data"
    }
   ],
   "source": [
    "plt.figure(figsize=(15,10))\n",
    "chart = sns.countplot(x = 'date',data = df_trips)\n",
    "plt.title('Train Trips Each Day')\n",
    "chart.set_xticklabels(chart.get_xticklabels(), rotation=45,  horizontalalignment='right')\n",
    "plt.show()"
   ]
  },
  {
   "cell_type": "code",
   "execution_count": 95,
   "metadata": {},
   "outputs": [
    {
     "data": {
      "image/png": "[encoded data removed]",
      "text/plain": [
       "<Figure size 432x288 with 1 Axes>"
      ]
     },
     "metadata": {
      "needs_background": "light"
     },
     "output_type": "display_data"
    }
   ],
   "source": [
    "ax = sns.countplot(x=\"day_of_week\",  data=df_trips)\n",
    "plt.title(\"Average Trip per Day of the Week\")\n",
    "plt.show()"
   ]
  },
  {
   "cell_type": "code",
   "execution_count": 96,
   "metadata": {},
   "outputs": [
    {
     "data": {
      "text/plain": [
       "day_of_week\n",
       "Fri    8966.60\n",
       "Mon    8924.00\n",
       "Sat    4657.60\n",
       "Sun    4374.00\n",
       "Thu    7642.40\n",
       "Tue    8659.75\n",
       "Wed    7349.50\n",
       "Name: date, dtype: float64"
      ]
     },
     "execution_count": 96,
     "metadata": {},
     "output_type": "execute_result"
    }
   ],
   "source": [
    "#avg trips per day\n",
    "a = pd.DataFrame(df_trips.groupby('day_of_week')['date'].count())\n",
    "b = pd.DataFrame(df_trips.groupby(\"day_of_week\").agg({ \"date\": pd.Series.nunique}))\n",
    "avg_trips = a['date'] / b['date']\n",
    "avg_trips"
   ]
  },
  {
   "cell_type": "markdown",
   "metadata": {},
   "source": [
    "On average, there ~7.2K train trips per day.Significantly fewer train trips are on weekends, with Friday having the highest average # of trips. "
   ]
  },
  {
   "cell_type": "markdown",
   "metadata": {},
   "source": [
    "<b> 3) What are the most common trips?"
   ]
  },
  {
   "cell_type": "code",
   "execution_count": 7,
   "metadata": {},
   "outputs": [],
   "source": [
    "from ipysankeywidget import SankeyWidget\n",
    "from floweaver import *"
   ]
  },
  {
   "cell_type": "code",
   "execution_count": 9,
   "metadata": {},
   "outputs": [],
   "source": [
    "sankey_df = pd.DataFrame(df_trips.groupby([\"from\", \"to\"]).agg({'train_id': np.count_nonzero})).reset_index()\n",
    "sankey_df= sankey_df.rename(columns={'from': 'source', 'to': 'target', 'train_id': 'value' })"
   ]
  },
  {
   "cell_type": "code",
   "execution_count": 10,
   "metadata": {},
   "outputs": [],
   "source": [
    "nodes = {\n",
    "    'start': ProcessGroup(list(sankey_df['source'])), # one (Syria) at the start \n",
    "    'end': ProcessGroup(list(sankey_df['target'])), # 7 at the end\n",
    "}\n",
    "\n",
    "ordering = [['start'], ['end']]\n",
    "\n",
    "bundles = [Bundle('start', 'end')]\n",
    "\n",
    "nodes['start'].partition = Partition.Simple('source', sankey_df['source'].unique())\n",
    "nodes['end'].partition = Partition.Simple('target', sankey_df['target'].unique())\n",
    "\n",
    "sdd = SankeyDefinition(nodes, bundles, ordering)\n",
    "\n",
    "size = dict(width=1200, height=3000)"
   ]
  },
  {
   "cell_type": "code",
   "execution_count": 11,
   "metadata": {},
   "outputs": [
    {
     "data": {
      "application/vnd.jupyter.widget-view+json": {
       "model_id": "f9e6de30d5314c4e8263b8108d9fccc5",
       "version_major": 2,
       "version_minor": 0
      },
      "text/plain": [
       "SankeyWidget(groups=[{'id': 'start', 'type': 'process', 'title': '', 'nodes': ['start^Aberdeen-Matawan', 'star…"
      ]
     },
     "metadata": {},
     "output_type": "display_data"
    }
   ],
   "source": [
    "weave(sdd, sankey_df).to_widget(**size)"
   ]
  },
  {
   "cell_type": "markdown",
   "metadata": {},
   "source": [
    "While an interesting visual, it is difficult to glean any insights, so I will subset the data"
   ]
  },
  {
   "cell_type": "code",
   "execution_count": 12,
   "metadata": {},
   "outputs": [],
   "source": [
    "stop_sequence_df = pd.DataFrame(df_trips.groupby(['stop_sequence','from']).agg({'train_id': np.count_nonzero})).reset_index()"
   ]
  },
  {
   "cell_type": "code",
   "execution_count": 13,
   "metadata": {},
   "outputs": [
    {
     "data": {
      "text/html": [
       "<div>\n",
       "<style scoped>\n",
       "    .dataframe tbody tr th:only-of-type {\n",
       "        vertical-align: middle;\n",
       "    }\n",
       "\n",
       "    .dataframe tbody tr th {\n",
       "        vertical-align: top;\n",
       "    }\n",
       "\n",
       "    .dataframe thead th {\n",
       "        text-align: right;\n",
       "    }\n",
       "</style>\n",
       "<table border=\"1\" class=\"dataframe\">\n",
       "  <thead>\n",
       "    <tr style=\"text-align: right;\">\n",
       "      <th></th>\n",
       "      <th>stop_sequence</th>\n",
       "      <th>from</th>\n",
       "      <th>train_id</th>\n",
       "    </tr>\n",
       "  </thead>\n",
       "  <tbody>\n",
       "    <tr>\n",
       "      <td>23</td>\n",
       "      <td>2.0</td>\n",
       "      <td>New York Penn Station</td>\n",
       "      <td>3989</td>\n",
       "    </tr>\n",
       "    <tr>\n",
       "      <td>11</td>\n",
       "      <td>2.0</td>\n",
       "      <td>Hoboken</td>\n",
       "      <td>3171</td>\n",
       "    </tr>\n",
       "    <tr>\n",
       "      <td>39</td>\n",
       "      <td>2.0</td>\n",
       "      <td>Trenton</td>\n",
       "      <td>1302</td>\n",
       "    </tr>\n",
       "    <tr>\n",
       "      <td>30</td>\n",
       "      <td>2.0</td>\n",
       "      <td>Princeton</td>\n",
       "      <td>1092</td>\n",
       "    </tr>\n",
       "    <tr>\n",
       "      <td>31</td>\n",
       "      <td>2.0</td>\n",
       "      <td>Princeton Junction</td>\n",
       "      <td>1079</td>\n",
       "    </tr>\n",
       "  </tbody>\n",
       "</table>\n",
       "</div>"
      ],
      "text/plain": [
       "    stop_sequence                   from  train_id\n",
       "23            2.0  New York Penn Station      3989\n",
       "11            2.0                Hoboken      3171\n",
       "39            2.0                Trenton      1302\n",
       "30            2.0              Princeton      1092\n",
       "31            2.0     Princeton Junction      1079"
      ]
     },
     "execution_count": 13,
     "metadata": {},
     "output_type": "execute_result"
    }
   ],
   "source": [
    "stop_sequence_df[(stop_sequence_df['stop_sequence'] ==2)].sort_values(by = ['train_id'], ascending = False).head()"
   ]
  },
  {
   "cell_type": "code",
   "execution_count": 14,
   "metadata": {},
   "outputs": [],
   "source": [
    "nodes = {\n",
    "    'start': ProcessGroup(['New York Penn Station','Hoboken', 'Trenton','Princeton', 'Princeton Junction']), # one (Syria) at the start \n",
    "    'end': ProcessGroup(list(sankey_df['target'])), # 7 at the end\n",
    "}\n",
    "\n",
    "ordering = [['start'], ['end']]\n",
    "\n",
    "bundles = [Bundle('start', 'end')]\n",
    "\n",
    "nodes['start'].partition = Partition.Simple('source', ['New York Penn Station','Hoboken', 'Trenton','Princeton', 'Princeton Junction'])\n",
    "nodes['end'].partition = Partition.Simple('target', sankey_df['target'].unique())\n",
    "\n",
    "sdd = SankeyDefinition(nodes, bundles, ordering)\n",
    "\n",
    "size = dict(width=2000, height=1500)"
   ]
  },
  {
   "cell_type": "code",
   "execution_count": 15,
   "metadata": {},
   "outputs": [
    {
     "data": {
      "application/vnd.jupyter.widget-view+json": {
       "model_id": "2db945c19fb14435a7d4bebce1d9ad20",
       "version_major": 2,
       "version_minor": 0
      },
      "text/plain": [
       "SankeyWidget(groups=[{'id': 'start', 'type': 'process', 'title': '', 'nodes': ['start^New York Penn Station', …"
      ]
     },
     "metadata": {},
     "output_type": "display_data"
    }
   ],
   "source": [
    "weave(sdd, sankey_df).to_widget(**size)"
   ]
  },
  {
   "cell_type": "markdown",
   "metadata": {},
   "source": [
    "The top origination stations are NY Penn, Hoboken, Trenton, Princeton, and Princeton Junction. Most of these points go two or 3 different locations."
   ]
  },
  {
   "cell_type": "markdown",
   "metadata": {},
   "source": [
    "<b> 4) What is the average number of stops?"
   ]
  },
  {
   "cell_type": "code",
   "execution_count": 122,
   "metadata": {},
   "outputs": [
    {
     "data": {
      "image/png": "[encoded data removed]",
      "text/plain": [
       "<Figure size 432x288 with 1 Axes>"
      ]
     },
     "metadata": {
      "needs_background": "light"
     },
     "output_type": "display_data"
    },
    {
     "name": "stdout",
     "output_type": "stream",
     "text": [
      "The average number of stops is 10.5\n"
     ]
    }
   ],
   "source": [
    "# will need to subtract 1 from stop sequences\n",
    "stops = df_trips.groupby(['train_id', 'date']).stop_sequence.count() - 1\n",
    "\n",
    "plt.title(\"Distribution of Stops\")\n",
    "plt.hist(stops)\n",
    "plt.show()\n",
    "\n",
    "print(\"The average number of stops is {}\".format(round(stops.mean(),1)))"
   ]
  },
  {
   "cell_type": "markdown",
   "metadata": {},
   "source": [
    "<b> 5) What is the average delay?"
   ]
  },
  {
   "cell_type": "code",
   "execution_count": 77,
   "metadata": {},
   "outputs": [
    {
     "name": "stdout",
     "output_type": "stream",
     "text": [
      "The average delay per trip is 3.5 minutes\n"
     ]
    }
   ],
   "source": [
    "print(\"The average delay per trip is {} minutes\".format(round(df['delay_minutes'].mean(),1)))"
   ]
  },
  {
   "cell_type": "code",
   "execution_count": 123,
   "metadata": {},
   "outputs": [],
   "source": [
    "# calculate delay across end-to-end trip (i.e., cumulative delay)\n",
    "\n",
    "cumulative_delay_df = df_trips.groupby(['train_id', 'date']).last()"
   ]
  },
  {
   "cell_type": "code",
   "execution_count": 127,
   "metadata": {},
   "outputs": [
    {
     "data": {
      "image/png": "[encoded data removed]",
      "text/plain": [
       "<Figure size 432x288 with 1 Axes>"
      ]
     },
     "metadata": {
      "needs_background": "light"
     },
     "output_type": "display_data"
    },
    {
     "name": "stdout",
     "output_type": "stream",
     "text": [
      "The average cumulative delay is 2.9 minutes\n"
     ]
    }
   ],
   "source": [
    "plt.title(\"Cumulative Delay\")\n",
    "plt.hist(cumulative_delay_df['delay_minutes'])\n",
    "plt.show()\n",
    "\n",
    "print(\"The average cumulative delay is {} minutes\".format(round(cumulative_delay_df['delay_minutes'].mean(),1)))\n",
    "\n"
   ]
  },
  {
   "cell_type": "markdown",
   "metadata": {},
   "source": [
    "<b> 6) What time do delays typically occur? "
   ]
  },
  {
   "cell_type": "code",
   "execution_count": 167,
   "metadata": {},
   "outputs": [
    {
     "data": {
      "image/png": "[encoded data removed]",
      "text/plain": [
       "<Figure size 1080x720 with 1 Axes>"
      ]
     },
     "metadata": {
      "needs_background": "light"
     },
     "output_type": "display_data"
    }
   ],
   "source": [
    "df['actual_time']= df['actual_time'].dt.time\n",
    "df['scheduled_time']= df['scheduled_time'].dt.time\n",
    "\n",
    "x = df.groupby('sc_time')['delay_minutes'].mean()\n",
    "\n",
    "\n",
    "plt.figure(figsize=(15,10))\n",
    "plt.title(\"Delay by Scheduled Time\")\n",
    "plt.plot(x)\n",
    "plt.show()\n"
   ]
  },
  {
   "cell_type": "markdown",
   "metadata": {},
   "source": [
    "Delays tend to occur in the late night/ early morning between 12 and 5 am"
   ]
  },
  {
   "cell_type": "code",
   "execution_count": 341,
   "metadata": {},
   "outputs": [],
   "source": [
    "# Creating bins for time \n",
    "\n",
    "#data['Departure_t'] = pd.to_datetime(df.s, format='%H:%M')\n",
    "#a = data.assign(dept_session=pd.cut(data.Departure_t.dt.hour,[0,6,12,18,24],labels=['Night','Morning','Afternoon','Evening']))\n",
    "#data['Departure_S'] = a['dept_session']\n",
    "\n",
    "#df['time_bin'] = pd.cut(x=df['sc_time'], bins= bin_time.astype('timedelta64[ms]', labels=labels))"
   ]
  },
  {
   "cell_type": "markdown",
   "metadata": {},
   "source": [
    "# 3) Cluster Modeling"
   ]
  },
  {
   "cell_type": "code",
   "execution_count": 29,
   "metadata": {},
   "outputs": [],
   "source": [
    "from sklearn.cluster import KMeans\n",
    "from sklearn.preprocessing import StandardScaler\n",
    "from sklearn.decomposition import PCA\n",
    "from sklearn import metrics\n",
    "from sklearn.cluster import DBSCAN\n",
    "from sklearn.mixture import GaussianMixture\n",
    "from sklearn.manifold import TSNE\n"
   ]
  },
  {
   "cell_type": "code",
   "execution_count": 17,
   "metadata": {},
   "outputs": [],
   "source": [
    "# will need to reshape dataset so each row becomes a single end-to-end trip\n",
    "\n",
    "# identify the last stop and delay in trip\n",
    "idx = df.groupby(['date','train_id'])['stop_sequence'].transform(max) == df['stop_sequence']\n",
    "max_df = df[idx]\n",
    "max_df = max_df[['date','train_id','to', 'delay_minutes']]\n",
    "\n",
    "# identify the first stop and scheduled start in trip\n",
    "idx = df.groupby(['date','train_id'])['stop_sequence'].transform(min) == df['stop_sequence']\n",
    "min_df = df[idx]\n",
    "min_df = min_df[['date','train_id','from', 'scheduled_time']]"
   ]
  },
  {
   "cell_type": "code",
   "execution_count": 18,
   "metadata": {},
   "outputs": [],
   "source": [
    "df1 = df.groupby(['date','train_id','line','type','day_of_week']).agg({'stop_sequence': np.count_nonzero}).reset_index()"
   ]
  },
  {
   "cell_type": "code",
   "execution_count": 19,
   "metadata": {},
   "outputs": [],
   "source": [
    "model_df = pd.merge(df1, max_df, how='left', on=['date', 'train_id'])"
   ]
  },
  {
   "cell_type": "code",
   "execution_count": 20,
   "metadata": {},
   "outputs": [],
   "source": [
    "model_df = pd.merge(model_df, min_df, how='left', on=['date', 'train_id'])"
   ]
  },
  {
   "cell_type": "code",
   "execution_count": 21,
   "metadata": {},
   "outputs": [
    {
     "data": {
      "text/plain": [
       "(19477, 10)"
      ]
     },
     "execution_count": 21,
     "metadata": {},
     "output_type": "execute_result"
    }
   ],
   "source": [
    "model_df.shape"
   ]
  },
  {
   "cell_type": "code",
   "execution_count": 22,
   "metadata": {},
   "outputs": [],
   "source": [
    "model_df['sch_time'] = pd.to_datetime(model_df.scheduled_time, format='%H:%M:%S')\n",
    "a = model_df.assign(dept_session=pd.cut(model_df.sch_time.dt.hour,[-1,5,12,18,28],labels=['Night','Morning','Afternoon','Evening']))\n",
    "model_df['time_bucket'] = a['dept_session'].astype(str)\n"
   ]
  },
  {
   "cell_type": "markdown",
   "metadata": {},
   "source": [
    "For clustering, I am going to drop date, train id, and type from the dataset. I am going to encode the categorical variables and then use PCA to reduce the dimensions before applying clustering."
   ]
  },
  {
   "cell_type": "code",
   "execution_count": 23,
   "metadata": {},
   "outputs": [],
   "source": [
    "model_df.drop(['date', 'train_id','type','sch_time','scheduled_time'], axis = 1, inplace=True)"
   ]
  },
  {
   "cell_type": "code",
   "execution_count": 24,
   "metadata": {},
   "outputs": [],
   "source": [
    "model_df['delay_ind'] = ['1' if x > 0 else '0' for x in model_df['delay_minutes']]"
   ]
  },
  {
   "cell_type": "code",
   "execution_count": 25,
   "metadata": {},
   "outputs": [],
   "source": [
    "model_df['delay_ind'] = model_df['delay_ind'].replace(['1', '0'], [1,0])\n",
    "y = model_df['delay_ind']\n",
    "X = model_df[['line', 'day_of_week', 'stop_sequence', 'to', 'from','time_bucket']]"
   ]
  },
  {
   "cell_type": "code",
   "execution_count": 26,
   "metadata": {},
   "outputs": [],
   "source": [
    "X = pd.get_dummies(model_df)"
   ]
  },
  {
   "cell_type": "code",
   "execution_count": 27,
   "metadata": {},
   "outputs": [],
   "source": [
    "scaler = StandardScaler()\n",
    "X_std = scaler.fit_transform(X)"
   ]
  },
  {
   "cell_type": "code",
   "execution_count": 28,
   "metadata": {},
   "outputs": [
    {
     "data": {
      "text/plain": [
       "(19477, 109)"
      ]
     },
     "execution_count": 28,
     "metadata": {},
     "output_type": "execute_result"
    }
   ],
   "source": [
    "X.shape"
   ]
  },
  {
   "cell_type": "code",
   "execution_count": 363,
   "metadata": {},
   "outputs": [
    {
     "data": {
      "image/png": "[encoded data removed]",
      "text/plain": [
       "<Figure size 720x720 with 1 Axes>"
      ]
     },
     "metadata": {
      "needs_background": "light"
     },
     "output_type": "display_data"
    }
   ],
   "source": [
    "pca = PCA()\n",
    "pca.fit(X_std)\n",
    "\n",
    "plt.figure(figsize=(10,10))\n",
    "plt.plot(np.cumsum(pca.explained_variance_ratio_))\n",
    "plt.xlabel('number of components')\n",
    "plt.ylabel('cumulative explained variance');"
   ]
  },
  {
   "cell_type": "markdown",
   "metadata": {},
   "source": [
    "With the high number of discrete variables, PCA is not very effective in reducing variance. Will conduct a few clustering techniques without using PCA"
   ]
  },
  {
   "cell_type": "code",
   "execution_count": 30,
   "metadata": {},
   "outputs": [
    {
     "name": "stdout",
     "output_type": "stream",
     "text": [
      "[t-SNE] Computing 121 nearest neighbors...\n",
      "[t-SNE] Indexed 19477 samples in 1.252s...\n",
      "[t-SNE] Computed neighbors for 19477 samples in 31.556s...\n",
      "[t-SNE] Computed conditional probabilities for sample 1000 / 19477\n",
      "[t-SNE] Computed conditional probabilities for sample 2000 / 19477\n",
      "[t-SNE] Computed conditional probabilities for sample 3000 / 19477\n",
      "[t-SNE] Computed conditional probabilities for sample 4000 / 19477\n",
      "[t-SNE] Computed conditional probabilities for sample 5000 / 19477\n",
      "[t-SNE] Computed conditional probabilities for sample 6000 / 19477\n",
      "[t-SNE] Computed conditional probabilities for sample 7000 / 19477\n",
      "[t-SNE] Computed conditional probabilities for sample 8000 / 19477\n",
      "[t-SNE] Computed conditional probabilities for sample 9000 / 19477\n",
      "[t-SNE] Computed conditional probabilities for sample 10000 / 19477\n",
      "[t-SNE] Computed conditional probabilities for sample 11000 / 19477\n",
      "[t-SNE] Computed conditional probabilities for sample 12000 / 19477\n",
      "[t-SNE] Computed conditional probabilities for sample 13000 / 19477\n",
      "[t-SNE] Computed conditional probabilities for sample 14000 / 19477\n",
      "[t-SNE] Computed conditional probabilities for sample 15000 / 19477\n",
      "[t-SNE] Computed conditional probabilities for sample 16000 / 19477\n",
      "[t-SNE] Computed conditional probabilities for sample 17000 / 19477\n",
      "[t-SNE] Computed conditional probabilities for sample 18000 / 19477\n",
      "[t-SNE] Computed conditional probabilities for sample 19000 / 19477\n",
      "[t-SNE] Computed conditional probabilities for sample 19477 / 19477\n",
      "[t-SNE] Mean sigma: 0.000000\n",
      "[t-SNE] KL divergence after 250 iterations with early exaggeration: 65.372185\n",
      "[t-SNE] KL divergence after 300 iterations: 2.552338\n",
      "t-SNE done! Time elapsed: 72.44054889678955 seconds\n"
     ]
    }
   ],
   "source": [
    "# will use t-SNE for visualization\n",
    "\n",
    "time_start = time.time()\n",
    "tsne = TSNE(n_components=2, verbose=1, perplexity=40, n_iter=300)\n",
    "tsne_results = tsne.fit_transform(X_std)\n",
    "\n",
    "print('t-SNE done! Time elapsed: {} seconds'.format(time.time()-time_start))"
   ]
  },
  {
   "cell_type": "code",
   "execution_count": 364,
   "metadata": {},
   "outputs": [],
   "source": [
    "clusters = []\n",
    "\n",
    "for i in range(1,20):\n",
    "    kmeans_pca = KMeans(n_clusters=i, init = 'k-means++', random_state=123)\n",
    "    kmeans_pca.fit(X_std)\n",
    "    clusters.append(kmeans_pca.inertia_)"
   ]
  },
  {
   "cell_type": "code",
   "execution_count": 365,
   "metadata": {},
   "outputs": [
    {
     "data": {
      "image/png": "[encoded data removed]",
      "text/plain": [
       "<Figure size 720x720 with 1 Axes>"
      ]
     },
     "metadata": {
      "needs_background": "light"
     },
     "output_type": "display_data"
    }
   ],
   "source": [
    "plt.figure(figsize=(10,10))\n",
    "plt.plot(range(1,20), clusters, marker = 'o', linestyle = '--')\n",
    "plt.title(\"Number of Clusters\")\n",
    "plt.xlabel('Clusters')\n",
    "plt.ylabel('Inertia')\n",
    "plt.show()"
   ]
  },
  {
   "cell_type": "code",
   "execution_count": 366,
   "metadata": {},
   "outputs": [
    {
     "name": "stdout",
     "output_type": "stream",
     "text": [
      "0.12419206766923925\n"
     ]
    }
   ],
   "source": [
    "labels = KMeans(n_clusters=10, random_state=123).fit_predict(X_std)\n",
    "print(metrics.silhouette_score(X_std, labels, metric='euclidean'))"
   ]
  },
  {
   "cell_type": "markdown",
   "metadata": {},
   "source": [
    "Since K-Means uses the euclidean distance measure, it is not an effective means for clustering when the data includes binary variables (from encoding categorical data). Instead, I will try k-modes, which is a technique that can measure similarity across categorical variables."
   ]
  },
  {
   "cell_type": "code",
   "execution_count": 372,
   "metadata": {},
   "outputs": [],
   "source": [
    "from kmodes.kmodes import KModes"
   ]
  },
  {
   "cell_type": "code",
   "execution_count": 424,
   "metadata": {},
   "outputs": [],
   "source": [
    "model_kmm = model_df.copy()\n",
    "model_kmm.drop(['delay_minutes'], axis = 1, inplace=True)"
   ]
  },
  {
   "cell_type": "code",
   "execution_count": 426,
   "metadata": {},
   "outputs": [
    {
     "name": "stdout",
     "output_type": "stream",
     "text": [
      "Initialization method and algorithm are deterministic. Setting n_init to 1.\n",
      "Init: initializing centroids\n",
      "Init: initializing clusters\n",
      "Starting iterations...\n",
      "Run 1, iteration: 1/100, moves: 0, cost: 99464.0\n",
      "Initialization method and algorithm are deterministic. Setting n_init to 1.\n",
      "Init: initializing centroids\n",
      "Init: initializing clusters\n",
      "Starting iterations...\n",
      "Run 1, iteration: 1/100, moves: 1797, cost: 89847.0\n",
      "Initialization method and algorithm are deterministic. Setting n_init to 1.\n",
      "Init: initializing centroids\n",
      "Init: initializing clusters\n",
      "Starting iterations...\n",
      "Run 1, iteration: 1/100, moves: 2242, cost: 84813.0\n",
      "Initialization method and algorithm are deterministic. Setting n_init to 1.\n",
      "Init: initializing centroids\n",
      "Init: initializing clusters\n",
      "Starting iterations...\n",
      "Run 1, iteration: 1/100, moves: 3317, cost: 78981.0\n",
      "Run 1, iteration: 2/100, moves: 718, cost: 78981.0\n",
      "Initialization method and algorithm are deterministic. Setting n_init to 1.\n",
      "Init: initializing centroids\n",
      "Init: initializing clusters\n",
      "Starting iterations...\n",
      "Run 1, iteration: 1/100, moves: 3385, cost: 76854.0\n",
      "Run 1, iteration: 2/100, moves: 241, cost: 76854.0\n",
      "Initialization method and algorithm are deterministic. Setting n_init to 1.\n",
      "Init: initializing centroids\n",
      "Init: initializing clusters\n",
      "Starting iterations...\n",
      "Run 1, iteration: 1/100, moves: 3376, cost: 75279.0\n",
      "Run 1, iteration: 2/100, moves: 217, cost: 75279.0\n",
      "Initialization method and algorithm are deterministic. Setting n_init to 1.\n",
      "Init: initializing centroids\n",
      "Init: initializing clusters\n",
      "Starting iterations...\n",
      "Run 1, iteration: 1/100, moves: 2328, cost: 73808.0\n",
      "Run 1, iteration: 2/100, moves: 272, cost: 73808.0\n",
      "Initialization method and algorithm are deterministic. Setting n_init to 1.\n",
      "Init: initializing centroids\n",
      "Init: initializing clusters\n",
      "Starting iterations...\n",
      "Run 1, iteration: 1/100, moves: 1898, cost: 72294.0\n",
      "Initialization method and algorithm are deterministic. Setting n_init to 1.\n",
      "Init: initializing centroids\n",
      "Init: initializing clusters\n",
      "Starting iterations...\n",
      "Run 1, iteration: 1/100, moves: 1621, cost: 70600.0\n",
      "Run 1, iteration: 2/100, moves: 1489, cost: 69616.0\n",
      "Run 1, iteration: 3/100, moves: 90, cost: 69616.0\n"
     ]
    }
   ],
   "source": [
    "# determine # of clusters\n",
    "\n",
    "cost = []\n",
    "for num_clusters in list(range(1,10)):\n",
    "    kmode = KModes(n_clusters=num_clusters, init = \"Cao\", n_init = 3, verbose=1)\n",
    "    kmode.fit_predict(model_kmm)\n",
    "    cost.append(kmode.cost_)"
   ]
  },
  {
   "cell_type": "code",
   "execution_count": 32,
   "metadata": {},
   "outputs": [
    {
     "data": {
      "image/png": "[encoded data removed]",
      "text/plain": [
       "<Figure size 720x360 with 1 Axes>"
      ]
     },
     "metadata": {},
     "output_type": "display_data"
    }
   ],
   "source": [
    "plt.figure(figsize=(10,5))\n",
    "plt.scatter(tsne_results[:, 0], tsne_results[:, 1])\n",
    "plt.xticks([])\n",
    "plt.yticks([])\n",
    "plt.axis('off')\n",
    "plt.show()"
   ]
  },
  {
   "cell_type": "markdown",
   "metadata": {},
   "source": [
    "As expected, t-SNE is not helpful with this particular dataset."
   ]
  },
  {
   "cell_type": "code",
   "execution_count": 428,
   "metadata": {},
   "outputs": [
    {
     "data": {
      "image/png": "[encoded data removed]",
      "text/plain": [
       "<Figure size 720x720 with 1 Axes>"
      ]
     },
     "metadata": {
      "needs_background": "light"
     },
     "output_type": "display_data"
    }
   ],
   "source": [
    "plt.figure(figsize=(10,10))\n",
    "plt.plot(range(1,10), cost, marker = 'o', linestyle = '--')\n",
    "plt.title(\"Number of Clusters\")\n",
    "plt.xlabel('Clusters')\n",
    "plt.ylabel('Cost')\n",
    "plt.show()"
   ]
  },
  {
   "cell_type": "markdown",
   "metadata": {},
   "source": [
    "4 clusters looks like the elbow and may make sense as the K for K-modes application "
   ]
  },
  {
   "cell_type": "code",
   "execution_count": 430,
   "metadata": {},
   "outputs": [
    {
     "name": "stdout",
     "output_type": "stream",
     "text": [
      "Initialization method and algorithm are deterministic. Setting n_init to 1.\n",
      "Init: initializing centroids\n",
      "Init: initializing clusters\n",
      "Starting iterations...\n",
      "Run 1, iteration: 1/100, moves: 3317, cost: 78981.0\n",
      "Run 1, iteration: 2/100, moves: 718, cost: 78981.0\n"
     ]
    }
   ],
   "source": [
    "# clustering with K = 4\n",
    "km = KModes(n_clusters=4, init = \"Cao\", n_init = 3, verbose=1)\n",
    "clusters = km.fit_predict(model_kmm)"
   ]
  },
  {
   "cell_type": "code",
   "execution_count": 434,
   "metadata": {},
   "outputs": [],
   "source": [
    "# Merge clusters with original data\n",
    "model_analysis = model_df.reset_index()\n",
    "clustersDf = pd.DataFrame(clusters)\n",
    "clustersDf.columns = ['cluster_predicted']\n",
    "combinedDf = pd.concat([model_analysis, clustersDf], axis = 1).reset_index()\n",
    "combinedDf = combinedDf.drop(['index','cluster', 'level_0'], axis = 1)"
   ]
  },
  {
   "cell_type": "markdown",
   "metadata": {},
   "source": [
    "<b> Analysis for to understand each cluster"
   ]
  },
  {
   "cell_type": "code",
   "execution_count": 438,
   "metadata": {},
   "outputs": [
    {
     "data": {
      "text/plain": [
       "0    7603\n",
       "1    4794\n",
       "2    4569\n",
       "3    2511\n",
       "Name: cluster_predicted, dtype: int64"
      ]
     },
     "execution_count": 438,
     "metadata": {},
     "output_type": "execute_result"
    }
   ],
   "source": [
    "combinedDf['cluster_predicted'].value_counts()"
   ]
  },
  {
   "cell_type": "code",
   "execution_count": 450,
   "metadata": {},
   "outputs": [
    {
     "data": {
      "image/png": "[encoded data removed]",
      "text/plain": [
       "<Figure size 432x288 with 1 Axes>"
      ]
     },
     "metadata": {
      "needs_background": "light"
     },
     "output_type": "display_data"
    }
   ],
   "source": [
    "avg_delay = combinedDf.groupby('cluster_predicted')['delay_minutes'].mean()\n",
    "plt.title(\"Avg Delay by Cluster\")\n",
    "plt.bar(avg_delay.index, avg_delay)\n",
    "plt.show()"
   ]
  },
  {
   "cell_type": "markdown",
   "metadata": {},
   "source": [
    "Cluster 2 has a significantly higher delay on average. Cluster 3 has a minimal delay."
   ]
  },
  {
   "cell_type": "code",
   "execution_count": 439,
   "metadata": {},
   "outputs": [
    {
     "data": {
      "image/png": "[encoded data removed]",
      "text/plain": [
       "<Figure size 720x720 with 2 Axes>"
      ]
     },
     "metadata": {
      "needs_background": "light"
     },
     "output_type": "display_data"
    }
   ],
   "source": [
    "plt.figure(figsize=(10,10))\n",
    "plt.subplot(2,1,1)\n",
    "sns.countplot(x = 'cluster_predicted', hue = 'day_of_week', data = combinedDf, palette = 'magma')\n",
    "plt.title('Clusters by Day of the Week')\n",
    "\n",
    "plt.subplot(2,1,2)\n",
    "sns.countplot(x = 'cluster_predicted', hue = 'time_bucket', data = combinedDf, palette = 'magma')\n",
    "plt.title('Clusters by Time of Day')\n",
    "\n",
    "\n",
    "plt.show()"
   ]
  },
  {
   "cell_type": "markdown",
   "metadata": {},
   "source": [
    "Clusters 0 and 1 have most the trip volume. Most of the Friday morning trips belong to cluster 0, while cluster 1 has a significant number of afternoon trips"
   ]
  },
  {
   "cell_type": "code",
   "execution_count": 440,
   "metadata": {},
   "outputs": [
    {
     "data": {
      "text/html": [
       "<div>\n",
       "<style scoped>\n",
       "    .dataframe tbody tr th:only-of-type {\n",
       "        vertical-align: middle;\n",
       "    }\n",
       "\n",
       "    .dataframe tbody tr th {\n",
       "        vertical-align: top;\n",
       "    }\n",
       "\n",
       "    .dataframe thead tr th {\n",
       "        text-align: left;\n",
       "    }\n",
       "\n",
       "    .dataframe thead tr:last-of-type th {\n",
       "        text-align: right;\n",
       "    }\n",
       "</style>\n",
       "<table border=\"1\" class=\"dataframe\">\n",
       "  <thead>\n",
       "    <tr>\n",
       "      <th></th>\n",
       "      <th colspan=\"8\" halign=\"left\">stop_sequence</th>\n",
       "      <th colspan=\"5\" halign=\"left\">delay_minutes</th>\n",
       "      <th colspan=\"8\" halign=\"left\">delay_ind</th>\n",
       "    </tr>\n",
       "    <tr>\n",
       "      <th></th>\n",
       "      <th>count</th>\n",
       "      <th>mean</th>\n",
       "      <th>std</th>\n",
       "      <th>min</th>\n",
       "      <th>25%</th>\n",
       "      <th>50%</th>\n",
       "      <th>75%</th>\n",
       "      <th>max</th>\n",
       "      <th>count</th>\n",
       "      <th>mean</th>\n",
       "      <th>...</th>\n",
       "      <th>75%</th>\n",
       "      <th>max</th>\n",
       "      <th>count</th>\n",
       "      <th>mean</th>\n",
       "      <th>std</th>\n",
       "      <th>min</th>\n",
       "      <th>25%</th>\n",
       "      <th>50%</th>\n",
       "      <th>75%</th>\n",
       "      <th>max</th>\n",
       "    </tr>\n",
       "    <tr>\n",
       "      <th>cluster_predicted</th>\n",
       "      <th></th>\n",
       "      <th></th>\n",
       "      <th></th>\n",
       "      <th></th>\n",
       "      <th></th>\n",
       "      <th></th>\n",
       "      <th></th>\n",
       "      <th></th>\n",
       "      <th></th>\n",
       "      <th></th>\n",
       "      <th></th>\n",
       "      <th></th>\n",
       "      <th></th>\n",
       "      <th></th>\n",
       "      <th></th>\n",
       "      <th></th>\n",
       "      <th></th>\n",
       "      <th></th>\n",
       "      <th></th>\n",
       "      <th></th>\n",
       "      <th></th>\n",
       "    </tr>\n",
       "  </thead>\n",
       "  <tbody>\n",
       "    <tr>\n",
       "      <td>0</td>\n",
       "      <td>7603.0</td>\n",
       "      <td>13.153755</td>\n",
       "      <td>4.255848</td>\n",
       "      <td>2.0</td>\n",
       "      <td>11.0</td>\n",
       "      <td>13.0</td>\n",
       "      <td>15.0</td>\n",
       "      <td>26.0</td>\n",
       "      <td>7603.0</td>\n",
       "      <td>2.356988</td>\n",
       "      <td>...</td>\n",
       "      <td>1.0</td>\n",
       "      <td>99.0</td>\n",
       "      <td>7603.0</td>\n",
       "      <td>0.251348</td>\n",
       "      <td>0.433817</td>\n",
       "      <td>0.0</td>\n",
       "      <td>0.0</td>\n",
       "      <td>0.0</td>\n",
       "      <td>1.0</td>\n",
       "      <td>1.0</td>\n",
       "    </tr>\n",
       "    <tr>\n",
       "      <td>1</td>\n",
       "      <td>4794.0</td>\n",
       "      <td>13.649145</td>\n",
       "      <td>4.035619</td>\n",
       "      <td>2.0</td>\n",
       "      <td>10.0</td>\n",
       "      <td>14.0</td>\n",
       "      <td>16.0</td>\n",
       "      <td>26.0</td>\n",
       "      <td>4794.0</td>\n",
       "      <td>2.503428</td>\n",
       "      <td>...</td>\n",
       "      <td>2.0</td>\n",
       "      <td>99.0</td>\n",
       "      <td>4794.0</td>\n",
       "      <td>0.300584</td>\n",
       "      <td>0.458560</td>\n",
       "      <td>0.0</td>\n",
       "      <td>0.0</td>\n",
       "      <td>0.0</td>\n",
       "      <td>1.0</td>\n",
       "      <td>1.0</td>\n",
       "    </tr>\n",
       "    <tr>\n",
       "      <td>2</td>\n",
       "      <td>4569.0</td>\n",
       "      <td>14.593128</td>\n",
       "      <td>4.961600</td>\n",
       "      <td>2.0</td>\n",
       "      <td>11.0</td>\n",
       "      <td>14.0</td>\n",
       "      <td>18.0</td>\n",
       "      <td>26.0</td>\n",
       "      <td>4569.0</td>\n",
       "      <td>5.868848</td>\n",
       "      <td>...</td>\n",
       "      <td>6.0</td>\n",
       "      <td>99.0</td>\n",
       "      <td>4569.0</td>\n",
       "      <td>0.878310</td>\n",
       "      <td>0.326963</td>\n",
       "      <td>0.0</td>\n",
       "      <td>1.0</td>\n",
       "      <td>1.0</td>\n",
       "      <td>1.0</td>\n",
       "      <td>1.0</td>\n",
       "    </tr>\n",
       "    <tr>\n",
       "      <td>3</td>\n",
       "      <td>2511.0</td>\n",
       "      <td>4.358423</td>\n",
       "      <td>5.483529</td>\n",
       "      <td>2.0</td>\n",
       "      <td>2.0</td>\n",
       "      <td>2.0</td>\n",
       "      <td>2.0</td>\n",
       "      <td>26.0</td>\n",
       "      <td>2511.0</td>\n",
       "      <td>0.067304</td>\n",
       "      <td>...</td>\n",
       "      <td>0.0</td>\n",
       "      <td>13.0</td>\n",
       "      <td>2511.0</td>\n",
       "      <td>0.017125</td>\n",
       "      <td>0.129762</td>\n",
       "      <td>0.0</td>\n",
       "      <td>0.0</td>\n",
       "      <td>0.0</td>\n",
       "      <td>0.0</td>\n",
       "      <td>1.0</td>\n",
       "    </tr>\n",
       "  </tbody>\n",
       "</table>\n",
       "<p>4 rows × 24 columns</p>\n",
       "</div>"
      ],
      "text/plain": [
       "                  stop_sequence                                              \\\n",
       "                          count       mean       std  min   25%   50%   75%   \n",
       "cluster_predicted                                                             \n",
       "0                        7603.0  13.153755  4.255848  2.0  11.0  13.0  15.0   \n",
       "1                        4794.0  13.649145  4.035619  2.0  10.0  14.0  16.0   \n",
       "2                        4569.0  14.593128  4.961600  2.0  11.0  14.0  18.0   \n",
       "3                        2511.0   4.358423  5.483529  2.0   2.0   2.0   2.0   \n",
       "\n",
       "                        delay_minutes            ...            delay_ind  \\\n",
       "                    max         count      mean  ...  75%   max     count   \n",
       "cluster_predicted                                ...                        \n",
       "0                  26.0        7603.0  2.356988  ...  1.0  99.0    7603.0   \n",
       "1                  26.0        4794.0  2.503428  ...  2.0  99.0    4794.0   \n",
       "2                  26.0        4569.0  5.868848  ...  6.0  99.0    4569.0   \n",
       "3                  26.0        2511.0  0.067304  ...  0.0  13.0    2511.0   \n",
       "\n",
       "                                                                \n",
       "                       mean       std  min  25%  50%  75%  max  \n",
       "cluster_predicted                                               \n",
       "0                  0.251348  0.433817  0.0  0.0  0.0  1.0  1.0  \n",
       "1                  0.300584  0.458560  0.0  0.0  0.0  1.0  1.0  \n",
       "2                  0.878310  0.326963  0.0  1.0  1.0  1.0  1.0  \n",
       "3                  0.017125  0.129762  0.0  0.0  0.0  0.0  1.0  \n",
       "\n",
       "[4 rows x 24 columns]"
      ]
     },
     "execution_count": 440,
     "metadata": {},
     "output_type": "execute_result"
    }
   ],
   "source": [
    "combinedDf.groupby('cluster_predicted').describe()"
   ]
  },
  {
   "cell_type": "code",
   "execution_count": 441,
   "metadata": {},
   "outputs": [
    {
     "data": {
      "text/html": [
       "<div>\n",
       "<style scoped>\n",
       "    .dataframe tbody tr th:only-of-type {\n",
       "        vertical-align: middle;\n",
       "    }\n",
       "\n",
       "    .dataframe tbody tr th {\n",
       "        vertical-align: top;\n",
       "    }\n",
       "\n",
       "    .dataframe thead tr th {\n",
       "        text-align: left;\n",
       "    }\n",
       "\n",
       "    .dataframe thead tr:last-of-type th {\n",
       "        text-align: right;\n",
       "    }\n",
       "</style>\n",
       "<table border=\"1\" class=\"dataframe\">\n",
       "  <thead>\n",
       "    <tr>\n",
       "      <th></th>\n",
       "      <th colspan=\"4\" halign=\"left\">line</th>\n",
       "      <th colspan=\"4\" halign=\"left\">day_of_week</th>\n",
       "      <th colspan=\"4\" halign=\"left\">to</th>\n",
       "      <th colspan=\"4\" halign=\"left\">from</th>\n",
       "      <th colspan=\"4\" halign=\"left\">time_bucket</th>\n",
       "    </tr>\n",
       "    <tr>\n",
       "      <th></th>\n",
       "      <th>count</th>\n",
       "      <th>unique</th>\n",
       "      <th>top</th>\n",
       "      <th>freq</th>\n",
       "      <th>count</th>\n",
       "      <th>unique</th>\n",
       "      <th>top</th>\n",
       "      <th>freq</th>\n",
       "      <th>count</th>\n",
       "      <th>unique</th>\n",
       "      <th>top</th>\n",
       "      <th>freq</th>\n",
       "      <th>count</th>\n",
       "      <th>unique</th>\n",
       "      <th>top</th>\n",
       "      <th>freq</th>\n",
       "      <th>count</th>\n",
       "      <th>unique</th>\n",
       "      <th>top</th>\n",
       "      <th>freq</th>\n",
       "    </tr>\n",
       "    <tr>\n",
       "      <th>cluster_predicted</th>\n",
       "      <th></th>\n",
       "      <th></th>\n",
       "      <th></th>\n",
       "      <th></th>\n",
       "      <th></th>\n",
       "      <th></th>\n",
       "      <th></th>\n",
       "      <th></th>\n",
       "      <th></th>\n",
       "      <th></th>\n",
       "      <th></th>\n",
       "      <th></th>\n",
       "      <th></th>\n",
       "      <th></th>\n",
       "      <th></th>\n",
       "      <th></th>\n",
       "      <th></th>\n",
       "      <th></th>\n",
       "      <th></th>\n",
       "      <th></th>\n",
       "    </tr>\n",
       "  </thead>\n",
       "  <tbody>\n",
       "    <tr>\n",
       "      <td>0</td>\n",
       "      <td>7603</td>\n",
       "      <td>11</td>\n",
       "      <td>Northeast Corrdr</td>\n",
       "      <td>2512</td>\n",
       "      <td>7603</td>\n",
       "      <td>7</td>\n",
       "      <td>Fri</td>\n",
       "      <td>2619</td>\n",
       "      <td>7603</td>\n",
       "      <td>35</td>\n",
       "      <td>Trenton</td>\n",
       "      <td>1324</td>\n",
       "      <td>7603</td>\n",
       "      <td>38</td>\n",
       "      <td>New York Penn Station</td>\n",
       "      <td>3078</td>\n",
       "      <td>7603</td>\n",
       "      <td>4</td>\n",
       "      <td>Morning</td>\n",
       "      <td>3731</td>\n",
       "    </tr>\n",
       "    <tr>\n",
       "      <td>1</td>\n",
       "      <td>4794</td>\n",
       "      <td>11</td>\n",
       "      <td>No Jersey Coast</td>\n",
       "      <td>1992</td>\n",
       "      <td>4794</td>\n",
       "      <td>7</td>\n",
       "      <td>Thu</td>\n",
       "      <td>1647</td>\n",
       "      <td>4794</td>\n",
       "      <td>31</td>\n",
       "      <td>New York Penn Station</td>\n",
       "      <td>1812</td>\n",
       "      <td>4794</td>\n",
       "      <td>38</td>\n",
       "      <td>Long Branch</td>\n",
       "      <td>1028</td>\n",
       "      <td>4794</td>\n",
       "      <td>4</td>\n",
       "      <td>Afternoon</td>\n",
       "      <td>2984</td>\n",
       "    </tr>\n",
       "    <tr>\n",
       "      <td>2</td>\n",
       "      <td>4569</td>\n",
       "      <td>11</td>\n",
       "      <td>Morristown Line</td>\n",
       "      <td>1177</td>\n",
       "      <td>4569</td>\n",
       "      <td>7</td>\n",
       "      <td>Mon</td>\n",
       "      <td>1286</td>\n",
       "      <td>4569</td>\n",
       "      <td>32</td>\n",
       "      <td>New York Penn Station</td>\n",
       "      <td>1088</td>\n",
       "      <td>4569</td>\n",
       "      <td>38</td>\n",
       "      <td>Hoboken</td>\n",
       "      <td>1823</td>\n",
       "      <td>4569</td>\n",
       "      <td>4</td>\n",
       "      <td>Morning</td>\n",
       "      <td>2327</td>\n",
       "    </tr>\n",
       "    <tr>\n",
       "      <td>3</td>\n",
       "      <td>2511</td>\n",
       "      <td>11</td>\n",
       "      <td>Princeton Shuttle</td>\n",
       "      <td>2053</td>\n",
       "      <td>2511</td>\n",
       "      <td>7</td>\n",
       "      <td>Tue</td>\n",
       "      <td>561</td>\n",
       "      <td>2511</td>\n",
       "      <td>21</td>\n",
       "      <td>Princeton Junction</td>\n",
       "      <td>1092</td>\n",
       "      <td>2511</td>\n",
       "      <td>23</td>\n",
       "      <td>Princeton</td>\n",
       "      <td>1092</td>\n",
       "      <td>2511</td>\n",
       "      <td>4</td>\n",
       "      <td>Evening</td>\n",
       "      <td>956</td>\n",
       "    </tr>\n",
       "  </tbody>\n",
       "</table>\n",
       "</div>"
      ],
      "text/plain": [
       "                   line                                 day_of_week         \\\n",
       "                  count unique                top  freq       count unique   \n",
       "cluster_predicted                                                            \n",
       "0                  7603     11   Northeast Corrdr  2512        7603      7   \n",
       "1                  4794     11    No Jersey Coast  1992        4794      7   \n",
       "2                  4569     11    Morristown Line  1177        4569      7   \n",
       "3                  2511     11  Princeton Shuttle  2053        2511      7   \n",
       "\n",
       "                                to                                      from  \\\n",
       "                   top  freq count unique                    top  freq count   \n",
       "cluster_predicted                                                              \n",
       "0                  Fri  2619  7603     35                Trenton  1324  7603   \n",
       "1                  Thu  1647  4794     31  New York Penn Station  1812  4794   \n",
       "2                  Mon  1286  4569     32  New York Penn Station  1088  4569   \n",
       "3                  Tue   561  2511     21     Princeton Junction  1092  2511   \n",
       "\n",
       "                                                      time_bucket         \\\n",
       "                  unique                    top  freq       count unique   \n",
       "cluster_predicted                                                          \n",
       "0                     38  New York Penn Station  3078        7603      4   \n",
       "1                     38            Long Branch  1028        4794      4   \n",
       "2                     38                Hoboken  1823        4569      4   \n",
       "3                     23              Princeton  1092        2511      4   \n",
       "\n",
       "                                    \n",
       "                         top  freq  \n",
       "cluster_predicted                   \n",
       "0                    Morning  3731  \n",
       "1                  Afternoon  2984  \n",
       "2                    Morning  2327  \n",
       "3                    Evening   956  "
      ]
     },
     "execution_count": 441,
     "metadata": {},
     "output_type": "execute_result"
    }
   ],
   "source": [
    "combinedDf.groupby('cluster_predicted').describe(include='O')"
   ]
  },
  {
   "cell_type": "markdown",
   "metadata": {},
   "source": [
    "<b>Summary</b>\n",
    "\n",
    "Due to the data being categorical, I used a K-Modes clustering technique. While 4 clusters appeared to be the optimal K based on reviewing the cost curve, two clusters immediately appeared to be distinct from the other segments. Cluster 2 tended to have trips that were delayed (on average ~5 minute delay). It tended to have more stops and tended to take place on Monday mornings. Cluster 3 experienced the least delays, likely due to having fewer stops and a larger share of evening trips. Clusters 0 and 1 appear similiar based on the average number of stops and delays, however the majority of when the trips occur differ. Cluster 0 had most of the Friday morning trips, while cluster 1 has mostly Thursday afternoon trips.  "
   ]
  },
  {
   "cell_type": "markdown",
   "metadata": {},
   "source": [
    "# 4) Supervised Technique for Predicting Delayed Trains"
   ]
  },
  {
   "cell_type": "code",
   "execution_count": 451,
   "metadata": {},
   "outputs": [
    {
     "data": {
      "image/png": "[encoded data removed]",
      "text/plain": [
       "<Figure size 432x288 with 1 Axes>"
      ]
     },
     "metadata": {
      "needs_background": "light"
     },
     "output_type": "display_data"
    }
   ],
   "source": [
    "sns.countplot(x = 'delay_ind', data= model_df)\n",
    "plt.show()"
   ]
  },
  {
   "cell_type": "markdown",
   "metadata": {},
   "source": [
    "Delays do have a class imbalance which can be addressed within the techniques."
   ]
  },
  {
   "cell_type": "code",
   "execution_count": 459,
   "metadata": {},
   "outputs": [],
   "source": [
    "# pre-process data \n",
    "\n",
    "#model_prediction = model_df.drop(['delay_minutes','cluster'], axis = 1, inplace=True)\n",
    "\n",
    "y = model_df['delay_ind']\n",
    "model_df.drop('delay_ind', axis = 1, inplace=True)\n",
    "X = pd.get_dummies(model_df)"
   ]
  },
  {
   "cell_type": "code",
   "execution_count": 461,
   "metadata": {},
   "outputs": [],
   "source": [
    "from sklearn.model_selection import train_test_split\n",
    "\n",
    "X_train, X_test, y_train, y_test = train_test_split(X, y, test_size = .2, random_state = 40)"
   ]
  },
  {
   "cell_type": "code",
   "execution_count": 466,
   "metadata": {},
   "outputs": [],
   "source": [
    "from sklearn.model_selection import GridSearchCV, cross_val_score\n",
    "from sklearn.linear_model import LogisticRegression\n",
    "from sklearn.ensemble import RandomForestClassifier, GradientBoostingClassifier\n",
    "from sklearn import tree\n",
    "from sklearn import metrics\n",
    "from sklearn.metrics import confusion_matrix\n"
   ]
  },
  {
   "cell_type": "code",
   "execution_count": 471,
   "metadata": {},
   "outputs": [],
   "source": [
    "lr = LogisticRegression()\n",
    "\n",
    "params = {}\n",
    "params['penalty'] = ['l1','l2',None]\n",
    "params['C']= [0.001, 0.01, 0.1, 1, 10, 100, 10000]\n",
    "params['max_iter'] = [3000]\n",
    "\n",
    "CV = GridSearchCV(lr, params,cv = 5,scoring = 'f1_weighted', n_jobs= -1)"
   ]
  },
  {
   "cell_type": "code",
   "execution_count": 472,
   "metadata": {},
   "outputs": [
    {
     "name": "stdout",
     "output_type": "stream",
     "text": [
      "--- 26.638928174972534 seconds ---\n",
      "{'C': 10000, 'max_iter': 3000, 'penalty': 'l2'}\n"
     ]
    }
   ],
   "source": [
    "start_time = time.time()\n",
    "    \n",
    "lr_model = CV.fit(X_train, y_train)\n",
    "\n",
    "print(\"--- %s seconds ---\" % (time.time() - start_time))\n",
    "print(lr_model.best_params_)"
   ]
  },
  {
   "cell_type": "code",
   "execution_count": 473,
   "metadata": {},
   "outputs": [
    {
     "name": "stdout",
     "output_type": "stream",
     "text": [
      "[[1999  405]\n",
      " [ 872  620]]\n",
      "              precision    recall  f1-score   support\n",
      "\n",
      "           0       0.70      0.83      0.76      2404\n",
      "           1       0.60      0.42      0.49      1492\n",
      "\n",
      "    accuracy                           0.67      3896\n",
      "   macro avg       0.65      0.62      0.63      3896\n",
      "weighted avg       0.66      0.67      0.66      3896\n",
      "\n",
      "ROC_AUC: 0.624\n"
     ]
    }
   ],
   "source": [
    "model_eval(lr_model,X_test, y_test)"
   ]
  },
  {
   "cell_type": "code",
   "execution_count": 474,
   "metadata": {},
   "outputs": [],
   "source": [
    "rfc = RandomForestClassifier()\n",
    "\n",
    "params = {}\n",
    "params['max_depth'] = [2,10,20,30,40, 50, None]\n",
    "params['n_estimators'] = [100,200, 500,750, 1000]\n",
    "params['criterion'] = ['gini', 'entropy']\n",
    "params['max_features'] = ['sqrt', 'log2', 'auto']\n",
    "params['min_samples_leaf'] = [2,5,10,15]\n",
    "params['min_samples_split'] = [2,5,10,15]\n",
    "\n",
    "CV = GridSearchCV(rfc, params,cv = 5,scoring = 'f1_weighted', n_jobs= -1)"
   ]
  },
  {
   "cell_type": "code",
   "execution_count": 475,
   "metadata": {},
   "outputs": [
    {
     "name": "stdout",
     "output_type": "stream",
     "text": [
      "--- 29303.274629831314 seconds ---\n",
      "{'criterion': 'entropy', 'max_depth': 40, 'max_features': 'sqrt', 'min_samples_leaf': 2, 'min_samples_split': 15, 'n_estimators': 100}\n"
     ]
    }
   ],
   "source": [
    "start_time = time.time()\n",
    "    \n",
    "rfc_model = CV.fit(X_train, y_train)\n",
    "\n",
    "print(\"--- %s seconds ---\" % (time.time() - start_time))\n",
    "print(rfc_model.best_params_)"
   ]
  },
  {
   "cell_type": "code",
   "execution_count": 476,
   "metadata": {},
   "outputs": [
    {
     "name": "stdout",
     "output_type": "stream",
     "text": [
      "[[1946  458]\n",
      " [ 711  781]]\n",
      "              precision    recall  f1-score   support\n",
      "\n",
      "           0       0.73      0.81      0.77      2404\n",
      "           1       0.63      0.52      0.57      1492\n",
      "\n",
      "    accuracy                           0.70      3896\n",
      "   macro avg       0.68      0.67      0.67      3896\n",
      "weighted avg       0.69      0.70      0.69      3896\n",
      "\n",
      "ROC_AUC: 0.666\n"
     ]
    }
   ],
   "source": [
    "model_eval(rfc_model,X_test, y_test)"
   ]
  },
  {
   "cell_type": "markdown",
   "metadata": {},
   "source": [
    "After using two models (Logistic Regression and Random Forest), RFC proved to have the better F1 score. Due to the number of features (107), the RFC model took 8 hours to run vs. less than a minute for the LR model. While the ROC AUC score is relatively low, pulling in additional data like weather could help potentially explain delays."
   ]
  },
  {
   "cell_type": "markdown",
   "metadata": {},
   "source": [
    "# 5) Summary for Analysis"
   ]
  },
  {
   "cell_type": "markdown",
   "metadata": {},
   "source": [
    "Analyze train trips revealed interesting patterns around delays. While EDA helped identify interesting insights, the unsupervised clustering helped identify common trains for trips that tended to be delayed. Generally, evening trips with fewer stops tended to be pretty safe from delays. Monday morning trips tended to see the most delays, especially with additional stops. In trying to predict delays, the random forest has relatively decent results. The wighted F1 score was 70%. To improve this model, I would like to collect additional data as well as add external features like weather."
   ]
  },
  {
   "cell_type": "markdown",
   "metadata": {},
   "source": [
    "# Helper Function"
   ]
  },
  {
   "cell_type": "markdown",
   "metadata": {},
   "source": [
    "Based on two classification methods, the RFC performed better when trying to predict whether a train would be delayed. "
   ]
  },
  {
   "cell_type": "code",
   "execution_count": 464,
   "metadata": {},
   "outputs": [],
   "source": [
    "# model evaluation function\n",
    "\n",
    "def model_eval(model, x_test, y_test):\n",
    "    y_predict = model.predict(x_test)\n",
    "    confusion = confusion_matrix(y_test, y_predict)\n",
    "    print(confusion)\n",
    "    print(metrics.classification_report(y_test, y_predict))\n",
    "    print(\"ROC_AUC:\" ,round(metrics.roc_auc_score(y_test, y_predict),3))\n",
    "    \n",
    "    "
   ]
  },
  {
   "cell_type": "code",
   "execution_count": null,
   "metadata": {},
   "outputs": [],
   "source": []
  }
 ],
 "metadata": {
  "kernelspec": {
   "display_name": "Python 3",
   "language": "python",
   "name": "python3"
  },
  "language_info": {
   "codemirror_mode": {
    "name": "ipython",
    "version": 3
   },
   "file_extension": ".py",
   "mimetype": "text/x-python",
   "name": "python",
   "nbconvert_exporter": "python",
   "pygments_lexer": "ipython3",
   "version": "3.7.4"
  }
 },
 "nbformat": 4,
 "nbformat_minor": 2
}
